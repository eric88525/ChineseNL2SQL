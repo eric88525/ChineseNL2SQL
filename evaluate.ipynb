{
  "nbformat": 4,
  "nbformat_minor": 0,
  "metadata": {
    "colab": {
      "name": "NL2SQL打包.ipynb",
      "provenance": [],
      "collapsed_sections": [
        "320jPEDnlumr",
        "fvw8FReulw8G",
        "2Y3KKzOdxKOE"
      ],
      "include_colab_link": true
    },
    "kernelspec": {
      "name": "python3",
      "display_name": "Python 3"
    },
    "accelerator": "GPU",
    "widgets": {
      "application/vnd.jupyter.widget-state+json": {
        "27ef973ccfc744b5b9f7bf455275e062": {
          "model_module": "@jupyter-widgets/controls",
          "model_name": "HBoxModel",
          "state": {
            "_view_name": "HBoxView",
            "_dom_classes": [],
            "_model_name": "HBoxModel",
            "_view_module": "@jupyter-widgets/controls",
            "_model_module_version": "1.5.0",
            "_view_count": null,
            "_view_module_version": "1.5.0",
            "box_style": "",
            "layout": "IPY_MODEL_e80d2a8739cf428b892027e83fdae1b4",
            "_model_module": "@jupyter-widgets/controls",
            "children": [
              "IPY_MODEL_8e246550db8f48539886bd5e7814962b",
              "IPY_MODEL_bf3959f10d6848ada6df6d857304313e"
            ]
          }
        },
        "e80d2a8739cf428b892027e83fdae1b4": {
          "model_module": "@jupyter-widgets/base",
          "model_name": "LayoutModel",
          "state": {
            "_view_name": "LayoutView",
            "grid_template_rows": null,
            "right": null,
            "justify_content": null,
            "_view_module": "@jupyter-widgets/base",
            "overflow": null,
            "_model_module_version": "1.2.0",
            "_view_count": null,
            "flex_flow": null,
            "width": null,
            "min_width": null,
            "border": null,
            "align_items": null,
            "bottom": null,
            "_model_module": "@jupyter-widgets/base",
            "top": null,
            "grid_column": null,
            "overflow_y": null,
            "overflow_x": null,
            "grid_auto_flow": null,
            "grid_area": null,
            "grid_template_columns": null,
            "flex": null,
            "_model_name": "LayoutModel",
            "justify_items": null,
            "grid_row": null,
            "max_height": null,
            "align_content": null,
            "visibility": null,
            "align_self": null,
            "height": null,
            "min_height": null,
            "padding": null,
            "grid_auto_rows": null,
            "grid_gap": null,
            "max_width": null,
            "order": null,
            "_view_module_version": "1.2.0",
            "grid_template_areas": null,
            "object_position": null,
            "object_fit": null,
            "grid_auto_columns": null,
            "margin": null,
            "display": null,
            "left": null
          }
        },
        "8e246550db8f48539886bd5e7814962b": {
          "model_module": "@jupyter-widgets/controls",
          "model_name": "FloatProgressModel",
          "state": {
            "_view_name": "ProgressView",
            "style": "IPY_MODEL_4b1f844339d14da6aa957aa1b7195f6b",
            "_dom_classes": [],
            "description": "Downloading: 100%",
            "_model_name": "FloatProgressModel",
            "bar_style": "success",
            "max": 647,
            "_view_module": "@jupyter-widgets/controls",
            "_model_module_version": "1.5.0",
            "value": 647,
            "_view_count": null,
            "_view_module_version": "1.5.0",
            "orientation": "horizontal",
            "min": 0,
            "description_tooltip": null,
            "_model_module": "@jupyter-widgets/controls",
            "layout": "IPY_MODEL_0a0a2f8d4f7f41119ca1108d149a63c6"
          }
        },
        "bf3959f10d6848ada6df6d857304313e": {
          "model_module": "@jupyter-widgets/controls",
          "model_name": "HTMLModel",
          "state": {
            "_view_name": "HTMLView",
            "style": "IPY_MODEL_9615995aadf145069f0ca7cf2cfa8e8d",
            "_dom_classes": [],
            "description": "",
            "_model_name": "HTMLModel",
            "placeholder": "​",
            "_view_module": "@jupyter-widgets/controls",
            "_model_module_version": "1.5.0",
            "value": " 647/647 [00:01&lt;00:00, 382B/s]",
            "_view_count": null,
            "_view_module_version": "1.5.0",
            "description_tooltip": null,
            "_model_module": "@jupyter-widgets/controls",
            "layout": "IPY_MODEL_141a66dc4ecb41c49fc54a48d3f0b8fe"
          }
        },
        "4b1f844339d14da6aa957aa1b7195f6b": {
          "model_module": "@jupyter-widgets/controls",
          "model_name": "ProgressStyleModel",
          "state": {
            "_view_name": "StyleView",
            "_model_name": "ProgressStyleModel",
            "description_width": "initial",
            "_view_module": "@jupyter-widgets/base",
            "_model_module_version": "1.5.0",
            "_view_count": null,
            "_view_module_version": "1.2.0",
            "bar_color": null,
            "_model_module": "@jupyter-widgets/controls"
          }
        },
        "0a0a2f8d4f7f41119ca1108d149a63c6": {
          "model_module": "@jupyter-widgets/base",
          "model_name": "LayoutModel",
          "state": {
            "_view_name": "LayoutView",
            "grid_template_rows": null,
            "right": null,
            "justify_content": null,
            "_view_module": "@jupyter-widgets/base",
            "overflow": null,
            "_model_module_version": "1.2.0",
            "_view_count": null,
            "flex_flow": null,
            "width": null,
            "min_width": null,
            "border": null,
            "align_items": null,
            "bottom": null,
            "_model_module": "@jupyter-widgets/base",
            "top": null,
            "grid_column": null,
            "overflow_y": null,
            "overflow_x": null,
            "grid_auto_flow": null,
            "grid_area": null,
            "grid_template_columns": null,
            "flex": null,
            "_model_name": "LayoutModel",
            "justify_items": null,
            "grid_row": null,
            "max_height": null,
            "align_content": null,
            "visibility": null,
            "align_self": null,
            "height": null,
            "min_height": null,
            "padding": null,
            "grid_auto_rows": null,
            "grid_gap": null,
            "max_width": null,
            "order": null,
            "_view_module_version": "1.2.0",
            "grid_template_areas": null,
            "object_position": null,
            "object_fit": null,
            "grid_auto_columns": null,
            "margin": null,
            "display": null,
            "left": null
          }
        },
        "9615995aadf145069f0ca7cf2cfa8e8d": {
          "model_module": "@jupyter-widgets/controls",
          "model_name": "DescriptionStyleModel",
          "state": {
            "_view_name": "StyleView",
            "_model_name": "DescriptionStyleModel",
            "description_width": "",
            "_view_module": "@jupyter-widgets/base",
            "_model_module_version": "1.5.0",
            "_view_count": null,
            "_view_module_version": "1.2.0",
            "_model_module": "@jupyter-widgets/controls"
          }
        },
        "141a66dc4ecb41c49fc54a48d3f0b8fe": {
          "model_module": "@jupyter-widgets/base",
          "model_name": "LayoutModel",
          "state": {
            "_view_name": "LayoutView",
            "grid_template_rows": null,
            "right": null,
            "justify_content": null,
            "_view_module": "@jupyter-widgets/base",
            "overflow": null,
            "_model_module_version": "1.2.0",
            "_view_count": null,
            "flex_flow": null,
            "width": null,
            "min_width": null,
            "border": null,
            "align_items": null,
            "bottom": null,
            "_model_module": "@jupyter-widgets/base",
            "top": null,
            "grid_column": null,
            "overflow_y": null,
            "overflow_x": null,
            "grid_auto_flow": null,
            "grid_area": null,
            "grid_template_columns": null,
            "flex": null,
            "_model_name": "LayoutModel",
            "justify_items": null,
            "grid_row": null,
            "max_height": null,
            "align_content": null,
            "visibility": null,
            "align_self": null,
            "height": null,
            "min_height": null,
            "padding": null,
            "grid_auto_rows": null,
            "grid_gap": null,
            "max_width": null,
            "order": null,
            "_view_module_version": "1.2.0",
            "grid_template_areas": null,
            "object_position": null,
            "object_fit": null,
            "grid_auto_columns": null,
            "margin": null,
            "display": null,
            "left": null
          }
        },
        "be20a6d948de45e38608e08d658db384": {
          "model_module": "@jupyter-widgets/controls",
          "model_name": "HBoxModel",
          "state": {
            "_view_name": "HBoxView",
            "_dom_classes": [],
            "_model_name": "HBoxModel",
            "_view_module": "@jupyter-widgets/controls",
            "_model_module_version": "1.5.0",
            "_view_count": null,
            "_view_module_version": "1.5.0",
            "box_style": "",
            "layout": "IPY_MODEL_d34ae60257144838aca5c24a7a4550df",
            "_model_module": "@jupyter-widgets/controls",
            "children": [
              "IPY_MODEL_8c36ee4b107d4a2aa6d9de88b71848bc",
              "IPY_MODEL_493091b9f04b4a92b491bd3a144507c2"
            ]
          }
        },
        "d34ae60257144838aca5c24a7a4550df": {
          "model_module": "@jupyter-widgets/base",
          "model_name": "LayoutModel",
          "state": {
            "_view_name": "LayoutView",
            "grid_template_rows": null,
            "right": null,
            "justify_content": null,
            "_view_module": "@jupyter-widgets/base",
            "overflow": null,
            "_model_module_version": "1.2.0",
            "_view_count": null,
            "flex_flow": null,
            "width": null,
            "min_width": null,
            "border": null,
            "align_items": null,
            "bottom": null,
            "_model_module": "@jupyter-widgets/base",
            "top": null,
            "grid_column": null,
            "overflow_y": null,
            "overflow_x": null,
            "grid_auto_flow": null,
            "grid_area": null,
            "grid_template_columns": null,
            "flex": null,
            "_model_name": "LayoutModel",
            "justify_items": null,
            "grid_row": null,
            "max_height": null,
            "align_content": null,
            "visibility": null,
            "align_self": null,
            "height": null,
            "min_height": null,
            "padding": null,
            "grid_auto_rows": null,
            "grid_gap": null,
            "max_width": null,
            "order": null,
            "_view_module_version": "1.2.0",
            "grid_template_areas": null,
            "object_position": null,
            "object_fit": null,
            "grid_auto_columns": null,
            "margin": null,
            "display": null,
            "left": null
          }
        },
        "8c36ee4b107d4a2aa6d9de88b71848bc": {
          "model_module": "@jupyter-widgets/controls",
          "model_name": "FloatProgressModel",
          "state": {
            "_view_name": "ProgressView",
            "style": "IPY_MODEL_76cb8c2d13514566bd7121ad5e7db648",
            "_dom_classes": [],
            "description": "Downloading: 100%",
            "_model_name": "FloatProgressModel",
            "bar_style": "success",
            "max": 109540,
            "_view_module": "@jupyter-widgets/controls",
            "_model_module_version": "1.5.0",
            "value": 109540,
            "_view_count": null,
            "_view_module_version": "1.5.0",
            "orientation": "horizontal",
            "min": 0,
            "description_tooltip": null,
            "_model_module": "@jupyter-widgets/controls",
            "layout": "IPY_MODEL_4b6aad4166fb49fcbfae4ae90ce15209"
          }
        },
        "493091b9f04b4a92b491bd3a144507c2": {
          "model_module": "@jupyter-widgets/controls",
          "model_name": "HTMLModel",
          "state": {
            "_view_name": "HTMLView",
            "style": "IPY_MODEL_5667e078e47d47e49deb7e58996beb69",
            "_dom_classes": [],
            "description": "",
            "_model_name": "HTMLModel",
            "placeholder": "​",
            "_view_module": "@jupyter-widgets/controls",
            "_model_module_version": "1.5.0",
            "value": " 110k/110k [00:00&lt;00:00, 284kB/s]",
            "_view_count": null,
            "_view_module_version": "1.5.0",
            "description_tooltip": null,
            "_model_module": "@jupyter-widgets/controls",
            "layout": "IPY_MODEL_65daacf2f11c420fbacac356a807a5c8"
          }
        },
        "76cb8c2d13514566bd7121ad5e7db648": {
          "model_module": "@jupyter-widgets/controls",
          "model_name": "ProgressStyleModel",
          "state": {
            "_view_name": "StyleView",
            "_model_name": "ProgressStyleModel",
            "description_width": "initial",
            "_view_module": "@jupyter-widgets/base",
            "_model_module_version": "1.5.0",
            "_view_count": null,
            "_view_module_version": "1.2.0",
            "bar_color": null,
            "_model_module": "@jupyter-widgets/controls"
          }
        },
        "4b6aad4166fb49fcbfae4ae90ce15209": {
          "model_module": "@jupyter-widgets/base",
          "model_name": "LayoutModel",
          "state": {
            "_view_name": "LayoutView",
            "grid_template_rows": null,
            "right": null,
            "justify_content": null,
            "_view_module": "@jupyter-widgets/base",
            "overflow": null,
            "_model_module_version": "1.2.0",
            "_view_count": null,
            "flex_flow": null,
            "width": null,
            "min_width": null,
            "border": null,
            "align_items": null,
            "bottom": null,
            "_model_module": "@jupyter-widgets/base",
            "top": null,
            "grid_column": null,
            "overflow_y": null,
            "overflow_x": null,
            "grid_auto_flow": null,
            "grid_area": null,
            "grid_template_columns": null,
            "flex": null,
            "_model_name": "LayoutModel",
            "justify_items": null,
            "grid_row": null,
            "max_height": null,
            "align_content": null,
            "visibility": null,
            "align_self": null,
            "height": null,
            "min_height": null,
            "padding": null,
            "grid_auto_rows": null,
            "grid_gap": null,
            "max_width": null,
            "order": null,
            "_view_module_version": "1.2.0",
            "grid_template_areas": null,
            "object_position": null,
            "object_fit": null,
            "grid_auto_columns": null,
            "margin": null,
            "display": null,
            "left": null
          }
        },
        "5667e078e47d47e49deb7e58996beb69": {
          "model_module": "@jupyter-widgets/controls",
          "model_name": "DescriptionStyleModel",
          "state": {
            "_view_name": "StyleView",
            "_model_name": "DescriptionStyleModel",
            "description_width": "",
            "_view_module": "@jupyter-widgets/base",
            "_model_module_version": "1.5.0",
            "_view_count": null,
            "_view_module_version": "1.2.0",
            "_model_module": "@jupyter-widgets/controls"
          }
        },
        "65daacf2f11c420fbacac356a807a5c8": {
          "model_module": "@jupyter-widgets/base",
          "model_name": "LayoutModel",
          "state": {
            "_view_name": "LayoutView",
            "grid_template_rows": null,
            "right": null,
            "justify_content": null,
            "_view_module": "@jupyter-widgets/base",
            "overflow": null,
            "_model_module_version": "1.2.0",
            "_view_count": null,
            "flex_flow": null,
            "width": null,
            "min_width": null,
            "border": null,
            "align_items": null,
            "bottom": null,
            "_model_module": "@jupyter-widgets/base",
            "top": null,
            "grid_column": null,
            "overflow_y": null,
            "overflow_x": null,
            "grid_auto_flow": null,
            "grid_area": null,
            "grid_template_columns": null,
            "flex": null,
            "_model_name": "LayoutModel",
            "justify_items": null,
            "grid_row": null,
            "max_height": null,
            "align_content": null,
            "visibility": null,
            "align_self": null,
            "height": null,
            "min_height": null,
            "padding": null,
            "grid_auto_rows": null,
            "grid_gap": null,
            "max_width": null,
            "order": null,
            "_view_module_version": "1.2.0",
            "grid_template_areas": null,
            "object_position": null,
            "object_fit": null,
            "grid_auto_columns": null,
            "margin": null,
            "display": null,
            "left": null
          }
        },
        "37bda20255cb4427a0b1165b7f2e80d1": {
          "model_module": "@jupyter-widgets/controls",
          "model_name": "HBoxModel",
          "state": {
            "_view_name": "HBoxView",
            "_dom_classes": [],
            "_model_name": "HBoxModel",
            "_view_module": "@jupyter-widgets/controls",
            "_model_module_version": "1.5.0",
            "_view_count": null,
            "_view_module_version": "1.5.0",
            "box_style": "",
            "layout": "IPY_MODEL_bf0de4b5745040dbbd9fb1396657a67b",
            "_model_module": "@jupyter-widgets/controls",
            "children": [
              "IPY_MODEL_9df3492e725e41a9af0d15f18db88b26",
              "IPY_MODEL_499385f4fae84bd1abc336e61012959d"
            ]
          }
        },
        "bf0de4b5745040dbbd9fb1396657a67b": {
          "model_module": "@jupyter-widgets/base",
          "model_name": "LayoutModel",
          "state": {
            "_view_name": "LayoutView",
            "grid_template_rows": null,
            "right": null,
            "justify_content": null,
            "_view_module": "@jupyter-widgets/base",
            "overflow": null,
            "_model_module_version": "1.2.0",
            "_view_count": null,
            "flex_flow": null,
            "width": null,
            "min_width": null,
            "border": null,
            "align_items": null,
            "bottom": null,
            "_model_module": "@jupyter-widgets/base",
            "top": null,
            "grid_column": null,
            "overflow_y": null,
            "overflow_x": null,
            "grid_auto_flow": null,
            "grid_area": null,
            "grid_template_columns": null,
            "flex": null,
            "_model_name": "LayoutModel",
            "justify_items": null,
            "grid_row": null,
            "max_height": null,
            "align_content": null,
            "visibility": null,
            "align_self": null,
            "height": null,
            "min_height": null,
            "padding": null,
            "grid_auto_rows": null,
            "grid_gap": null,
            "max_width": null,
            "order": null,
            "_view_module_version": "1.2.0",
            "grid_template_areas": null,
            "object_position": null,
            "object_fit": null,
            "grid_auto_columns": null,
            "margin": null,
            "display": null,
            "left": null
          }
        },
        "9df3492e725e41a9af0d15f18db88b26": {
          "model_module": "@jupyter-widgets/controls",
          "model_name": "FloatProgressModel",
          "state": {
            "_view_name": "ProgressView",
            "style": "IPY_MODEL_b24e932c3ad1429b808aea07136a16fb",
            "_dom_classes": [],
            "description": "Downloading: 100%",
            "_model_name": "FloatProgressModel",
            "bar_style": "success",
            "max": 2,
            "_view_module": "@jupyter-widgets/controls",
            "_model_module_version": "1.5.0",
            "value": 2,
            "_view_count": null,
            "_view_module_version": "1.5.0",
            "orientation": "horizontal",
            "min": 0,
            "description_tooltip": null,
            "_model_module": "@jupyter-widgets/controls",
            "layout": "IPY_MODEL_4b0654a0faf9453ab055b3f2a94e8819"
          }
        },
        "499385f4fae84bd1abc336e61012959d": {
          "model_module": "@jupyter-widgets/controls",
          "model_name": "HTMLModel",
          "state": {
            "_view_name": "HTMLView",
            "style": "IPY_MODEL_04f8fbce69ea4db497ca3aad91cae303",
            "_dom_classes": [],
            "description": "",
            "_model_name": "HTMLModel",
            "placeholder": "​",
            "_view_module": "@jupyter-widgets/controls",
            "_model_module_version": "1.5.0",
            "value": " 2.00/2.00 [00:00&lt;00:00, 2.29B/s]",
            "_view_count": null,
            "_view_module_version": "1.5.0",
            "description_tooltip": null,
            "_model_module": "@jupyter-widgets/controls",
            "layout": "IPY_MODEL_bade7b17bf9547f2bfcdaf974e0b5faf"
          }
        },
        "b24e932c3ad1429b808aea07136a16fb": {
          "model_module": "@jupyter-widgets/controls",
          "model_name": "ProgressStyleModel",
          "state": {
            "_view_name": "StyleView",
            "_model_name": "ProgressStyleModel",
            "description_width": "initial",
            "_view_module": "@jupyter-widgets/base",
            "_model_module_version": "1.5.0",
            "_view_count": null,
            "_view_module_version": "1.2.0",
            "bar_color": null,
            "_model_module": "@jupyter-widgets/controls"
          }
        },
        "4b0654a0faf9453ab055b3f2a94e8819": {
          "model_module": "@jupyter-widgets/base",
          "model_name": "LayoutModel",
          "state": {
            "_view_name": "LayoutView",
            "grid_template_rows": null,
            "right": null,
            "justify_content": null,
            "_view_module": "@jupyter-widgets/base",
            "overflow": null,
            "_model_module_version": "1.2.0",
            "_view_count": null,
            "flex_flow": null,
            "width": null,
            "min_width": null,
            "border": null,
            "align_items": null,
            "bottom": null,
            "_model_module": "@jupyter-widgets/base",
            "top": null,
            "grid_column": null,
            "overflow_y": null,
            "overflow_x": null,
            "grid_auto_flow": null,
            "grid_area": null,
            "grid_template_columns": null,
            "flex": null,
            "_model_name": "LayoutModel",
            "justify_items": null,
            "grid_row": null,
            "max_height": null,
            "align_content": null,
            "visibility": null,
            "align_self": null,
            "height": null,
            "min_height": null,
            "padding": null,
            "grid_auto_rows": null,
            "grid_gap": null,
            "max_width": null,
            "order": null,
            "_view_module_version": "1.2.0",
            "grid_template_areas": null,
            "object_position": null,
            "object_fit": null,
            "grid_auto_columns": null,
            "margin": null,
            "display": null,
            "left": null
          }
        },
        "04f8fbce69ea4db497ca3aad91cae303": {
          "model_module": "@jupyter-widgets/controls",
          "model_name": "DescriptionStyleModel",
          "state": {
            "_view_name": "StyleView",
            "_model_name": "DescriptionStyleModel",
            "description_width": "",
            "_view_module": "@jupyter-widgets/base",
            "_model_module_version": "1.5.0",
            "_view_count": null,
            "_view_module_version": "1.2.0",
            "_model_module": "@jupyter-widgets/controls"
          }
        },
        "bade7b17bf9547f2bfcdaf974e0b5faf": {
          "model_module": "@jupyter-widgets/base",
          "model_name": "LayoutModel",
          "state": {
            "_view_name": "LayoutView",
            "grid_template_rows": null,
            "right": null,
            "justify_content": null,
            "_view_module": "@jupyter-widgets/base",
            "overflow": null,
            "_model_module_version": "1.2.0",
            "_view_count": null,
            "flex_flow": null,
            "width": null,
            "min_width": null,
            "border": null,
            "align_items": null,
            "bottom": null,
            "_model_module": "@jupyter-widgets/base",
            "top": null,
            "grid_column": null,
            "overflow_y": null,
            "overflow_x": null,
            "grid_auto_flow": null,
            "grid_area": null,
            "grid_template_columns": null,
            "flex": null,
            "_model_name": "LayoutModel",
            "justify_items": null,
            "grid_row": null,
            "max_height": null,
            "align_content": null,
            "visibility": null,
            "align_self": null,
            "height": null,
            "min_height": null,
            "padding": null,
            "grid_auto_rows": null,
            "grid_gap": null,
            "max_width": null,
            "order": null,
            "_view_module_version": "1.2.0",
            "grid_template_areas": null,
            "object_position": null,
            "object_fit": null,
            "grid_auto_columns": null,
            "margin": null,
            "display": null,
            "left": null
          }
        },
        "b73da0eb0d7648f186cbc65e6210ae6e": {
          "model_module": "@jupyter-widgets/controls",
          "model_name": "HBoxModel",
          "state": {
            "_view_name": "HBoxView",
            "_dom_classes": [],
            "_model_name": "HBoxModel",
            "_view_module": "@jupyter-widgets/controls",
            "_model_module_version": "1.5.0",
            "_view_count": null,
            "_view_module_version": "1.5.0",
            "box_style": "",
            "layout": "IPY_MODEL_6b93af36240d4f8e8dd7ac8d26f95145",
            "_model_module": "@jupyter-widgets/controls",
            "children": [
              "IPY_MODEL_435b65cdbbfb4e6f917e887a5d71f567",
              "IPY_MODEL_f1670990881e48cda62bd348244ba2f6"
            ]
          }
        },
        "6b93af36240d4f8e8dd7ac8d26f95145": {
          "model_module": "@jupyter-widgets/base",
          "model_name": "LayoutModel",
          "state": {
            "_view_name": "LayoutView",
            "grid_template_rows": null,
            "right": null,
            "justify_content": null,
            "_view_module": "@jupyter-widgets/base",
            "overflow": null,
            "_model_module_version": "1.2.0",
            "_view_count": null,
            "flex_flow": null,
            "width": null,
            "min_width": null,
            "border": null,
            "align_items": null,
            "bottom": null,
            "_model_module": "@jupyter-widgets/base",
            "top": null,
            "grid_column": null,
            "overflow_y": null,
            "overflow_x": null,
            "grid_auto_flow": null,
            "grid_area": null,
            "grid_template_columns": null,
            "flex": null,
            "_model_name": "LayoutModel",
            "justify_items": null,
            "grid_row": null,
            "max_height": null,
            "align_content": null,
            "visibility": null,
            "align_self": null,
            "height": null,
            "min_height": null,
            "padding": null,
            "grid_auto_rows": null,
            "grid_gap": null,
            "max_width": null,
            "order": null,
            "_view_module_version": "1.2.0",
            "grid_template_areas": null,
            "object_position": null,
            "object_fit": null,
            "grid_auto_columns": null,
            "margin": null,
            "display": null,
            "left": null
          }
        },
        "435b65cdbbfb4e6f917e887a5d71f567": {
          "model_module": "@jupyter-widgets/controls",
          "model_name": "FloatProgressModel",
          "state": {
            "_view_name": "ProgressView",
            "style": "IPY_MODEL_2dfa0264f79548faad9bd163c71bdc10",
            "_dom_classes": [],
            "description": "Downloading: 100%",
            "_model_name": "FloatProgressModel",
            "bar_style": "success",
            "max": 112,
            "_view_module": "@jupyter-widgets/controls",
            "_model_module_version": "1.5.0",
            "value": 112,
            "_view_count": null,
            "_view_module_version": "1.5.0",
            "orientation": "horizontal",
            "min": 0,
            "description_tooltip": null,
            "_model_module": "@jupyter-widgets/controls",
            "layout": "IPY_MODEL_98f45ab60cf649bbbb7aa230d448a1d2"
          }
        },
        "f1670990881e48cda62bd348244ba2f6": {
          "model_module": "@jupyter-widgets/controls",
          "model_name": "HTMLModel",
          "state": {
            "_view_name": "HTMLView",
            "style": "IPY_MODEL_544ee00e4fdb4e57877cd7e61ab50ca9",
            "_dom_classes": [],
            "description": "",
            "_model_name": "HTMLModel",
            "placeholder": "​",
            "_view_module": "@jupyter-widgets/controls",
            "_model_module_version": "1.5.0",
            "value": " 112/112 [00:00&lt;00:00, 226B/s]",
            "_view_count": null,
            "_view_module_version": "1.5.0",
            "description_tooltip": null,
            "_model_module": "@jupyter-widgets/controls",
            "layout": "IPY_MODEL_9abdbfeddaa3413ab9cecd6efe947d19"
          }
        },
        "2dfa0264f79548faad9bd163c71bdc10": {
          "model_module": "@jupyter-widgets/controls",
          "model_name": "ProgressStyleModel",
          "state": {
            "_view_name": "StyleView",
            "_model_name": "ProgressStyleModel",
            "description_width": "initial",
            "_view_module": "@jupyter-widgets/base",
            "_model_module_version": "1.5.0",
            "_view_count": null,
            "_view_module_version": "1.2.0",
            "bar_color": null,
            "_model_module": "@jupyter-widgets/controls"
          }
        },
        "98f45ab60cf649bbbb7aa230d448a1d2": {
          "model_module": "@jupyter-widgets/base",
          "model_name": "LayoutModel",
          "state": {
            "_view_name": "LayoutView",
            "grid_template_rows": null,
            "right": null,
            "justify_content": null,
            "_view_module": "@jupyter-widgets/base",
            "overflow": null,
            "_model_module_version": "1.2.0",
            "_view_count": null,
            "flex_flow": null,
            "width": null,
            "min_width": null,
            "border": null,
            "align_items": null,
            "bottom": null,
            "_model_module": "@jupyter-widgets/base",
            "top": null,
            "grid_column": null,
            "overflow_y": null,
            "overflow_x": null,
            "grid_auto_flow": null,
            "grid_area": null,
            "grid_template_columns": null,
            "flex": null,
            "_model_name": "LayoutModel",
            "justify_items": null,
            "grid_row": null,
            "max_height": null,
            "align_content": null,
            "visibility": null,
            "align_self": null,
            "height": null,
            "min_height": null,
            "padding": null,
            "grid_auto_rows": null,
            "grid_gap": null,
            "max_width": null,
            "order": null,
            "_view_module_version": "1.2.0",
            "grid_template_areas": null,
            "object_position": null,
            "object_fit": null,
            "grid_auto_columns": null,
            "margin": null,
            "display": null,
            "left": null
          }
        },
        "544ee00e4fdb4e57877cd7e61ab50ca9": {
          "model_module": "@jupyter-widgets/controls",
          "model_name": "DescriptionStyleModel",
          "state": {
            "_view_name": "StyleView",
            "_model_name": "DescriptionStyleModel",
            "description_width": "",
            "_view_module": "@jupyter-widgets/base",
            "_model_module_version": "1.5.0",
            "_view_count": null,
            "_view_module_version": "1.2.0",
            "_model_module": "@jupyter-widgets/controls"
          }
        },
        "9abdbfeddaa3413ab9cecd6efe947d19": {
          "model_module": "@jupyter-widgets/base",
          "model_name": "LayoutModel",
          "state": {
            "_view_name": "LayoutView",
            "grid_template_rows": null,
            "right": null,
            "justify_content": null,
            "_view_module": "@jupyter-widgets/base",
            "overflow": null,
            "_model_module_version": "1.2.0",
            "_view_count": null,
            "flex_flow": null,
            "width": null,
            "min_width": null,
            "border": null,
            "align_items": null,
            "bottom": null,
            "_model_module": "@jupyter-widgets/base",
            "top": null,
            "grid_column": null,
            "overflow_y": null,
            "overflow_x": null,
            "grid_auto_flow": null,
            "grid_area": null,
            "grid_template_columns": null,
            "flex": null,
            "_model_name": "LayoutModel",
            "justify_items": null,
            "grid_row": null,
            "max_height": null,
            "align_content": null,
            "visibility": null,
            "align_self": null,
            "height": null,
            "min_height": null,
            "padding": null,
            "grid_auto_rows": null,
            "grid_gap": null,
            "max_width": null,
            "order": null,
            "_view_module_version": "1.2.0",
            "grid_template_areas": null,
            "object_position": null,
            "object_fit": null,
            "grid_auto_columns": null,
            "margin": null,
            "display": null,
            "left": null
          }
        },
        "53cb69f31c164763af84638d277f3292": {
          "model_module": "@jupyter-widgets/controls",
          "model_name": "HBoxModel",
          "state": {
            "_view_name": "HBoxView",
            "_dom_classes": [],
            "_model_name": "HBoxModel",
            "_view_module": "@jupyter-widgets/controls",
            "_model_module_version": "1.5.0",
            "_view_count": null,
            "_view_module_version": "1.5.0",
            "box_style": "",
            "layout": "IPY_MODEL_8fec156e876d4da6b0790e28b6d30be7",
            "_model_module": "@jupyter-widgets/controls",
            "children": [
              "IPY_MODEL_2522213ee4614474bf96a71fbe295486",
              "IPY_MODEL_c954e957b213491485b912236374525e"
            ]
          }
        },
        "8fec156e876d4da6b0790e28b6d30be7": {
          "model_module": "@jupyter-widgets/base",
          "model_name": "LayoutModel",
          "state": {
            "_view_name": "LayoutView",
            "grid_template_rows": null,
            "right": null,
            "justify_content": null,
            "_view_module": "@jupyter-widgets/base",
            "overflow": null,
            "_model_module_version": "1.2.0",
            "_view_count": null,
            "flex_flow": null,
            "width": null,
            "min_width": null,
            "border": null,
            "align_items": null,
            "bottom": null,
            "_model_module": "@jupyter-widgets/base",
            "top": null,
            "grid_column": null,
            "overflow_y": null,
            "overflow_x": null,
            "grid_auto_flow": null,
            "grid_area": null,
            "grid_template_columns": null,
            "flex": null,
            "_model_name": "LayoutModel",
            "justify_items": null,
            "grid_row": null,
            "max_height": null,
            "align_content": null,
            "visibility": null,
            "align_self": null,
            "height": null,
            "min_height": null,
            "padding": null,
            "grid_auto_rows": null,
            "grid_gap": null,
            "max_width": null,
            "order": null,
            "_view_module_version": "1.2.0",
            "grid_template_areas": null,
            "object_position": null,
            "object_fit": null,
            "grid_auto_columns": null,
            "margin": null,
            "display": null,
            "left": null
          }
        },
        "2522213ee4614474bf96a71fbe295486": {
          "model_module": "@jupyter-widgets/controls",
          "model_name": "FloatProgressModel",
          "state": {
            "_view_name": "ProgressView",
            "style": "IPY_MODEL_a0aaadc4a83146b1a0ae750e51a353d5",
            "_dom_classes": [],
            "description": "Downloading: 100%",
            "_model_name": "FloatProgressModel",
            "bar_style": "success",
            "max": 19,
            "_view_module": "@jupyter-widgets/controls",
            "_model_module_version": "1.5.0",
            "value": 19,
            "_view_count": null,
            "_view_module_version": "1.5.0",
            "orientation": "horizontal",
            "min": 0,
            "description_tooltip": null,
            "_model_module": "@jupyter-widgets/controls",
            "layout": "IPY_MODEL_bf6b70a5c7bb4773b623afbc464f77e9"
          }
        },
        "c954e957b213491485b912236374525e": {
          "model_module": "@jupyter-widgets/controls",
          "model_name": "HTMLModel",
          "state": {
            "_view_name": "HTMLView",
            "style": "IPY_MODEL_7a669b437dc143ee8fa3042147c907cf",
            "_dom_classes": [],
            "description": "",
            "_model_name": "HTMLModel",
            "placeholder": "​",
            "_view_module": "@jupyter-widgets/controls",
            "_model_module_version": "1.5.0",
            "value": " 19.0/19.0 [00:00&lt;00:00, 102B/s]",
            "_view_count": null,
            "_view_module_version": "1.5.0",
            "description_tooltip": null,
            "_model_module": "@jupyter-widgets/controls",
            "layout": "IPY_MODEL_527a267e52d2444c9f72706e2103ff54"
          }
        },
        "a0aaadc4a83146b1a0ae750e51a353d5": {
          "model_module": "@jupyter-widgets/controls",
          "model_name": "ProgressStyleModel",
          "state": {
            "_view_name": "StyleView",
            "_model_name": "ProgressStyleModel",
            "description_width": "initial",
            "_view_module": "@jupyter-widgets/base",
            "_model_module_version": "1.5.0",
            "_view_count": null,
            "_view_module_version": "1.2.0",
            "bar_color": null,
            "_model_module": "@jupyter-widgets/controls"
          }
        },
        "bf6b70a5c7bb4773b623afbc464f77e9": {
          "model_module": "@jupyter-widgets/base",
          "model_name": "LayoutModel",
          "state": {
            "_view_name": "LayoutView",
            "grid_template_rows": null,
            "right": null,
            "justify_content": null,
            "_view_module": "@jupyter-widgets/base",
            "overflow": null,
            "_model_module_version": "1.2.0",
            "_view_count": null,
            "flex_flow": null,
            "width": null,
            "min_width": null,
            "border": null,
            "align_items": null,
            "bottom": null,
            "_model_module": "@jupyter-widgets/base",
            "top": null,
            "grid_column": null,
            "overflow_y": null,
            "overflow_x": null,
            "grid_auto_flow": null,
            "grid_area": null,
            "grid_template_columns": null,
            "flex": null,
            "_model_name": "LayoutModel",
            "justify_items": null,
            "grid_row": null,
            "max_height": null,
            "align_content": null,
            "visibility": null,
            "align_self": null,
            "height": null,
            "min_height": null,
            "padding": null,
            "grid_auto_rows": null,
            "grid_gap": null,
            "max_width": null,
            "order": null,
            "_view_module_version": "1.2.0",
            "grid_template_areas": null,
            "object_position": null,
            "object_fit": null,
            "grid_auto_columns": null,
            "margin": null,
            "display": null,
            "left": null
          }
        },
        "7a669b437dc143ee8fa3042147c907cf": {
          "model_module": "@jupyter-widgets/controls",
          "model_name": "DescriptionStyleModel",
          "state": {
            "_view_name": "StyleView",
            "_model_name": "DescriptionStyleModel",
            "description_width": "",
            "_view_module": "@jupyter-widgets/base",
            "_model_module_version": "1.5.0",
            "_view_count": null,
            "_view_module_version": "1.2.0",
            "_model_module": "@jupyter-widgets/controls"
          }
        },
        "527a267e52d2444c9f72706e2103ff54": {
          "model_module": "@jupyter-widgets/base",
          "model_name": "LayoutModel",
          "state": {
            "_view_name": "LayoutView",
            "grid_template_rows": null,
            "right": null,
            "justify_content": null,
            "_view_module": "@jupyter-widgets/base",
            "overflow": null,
            "_model_module_version": "1.2.0",
            "_view_count": null,
            "flex_flow": null,
            "width": null,
            "min_width": null,
            "border": null,
            "align_items": null,
            "bottom": null,
            "_model_module": "@jupyter-widgets/base",
            "top": null,
            "grid_column": null,
            "overflow_y": null,
            "overflow_x": null,
            "grid_auto_flow": null,
            "grid_area": null,
            "grid_template_columns": null,
            "flex": null,
            "_model_name": "LayoutModel",
            "justify_items": null,
            "grid_row": null,
            "max_height": null,
            "align_content": null,
            "visibility": null,
            "align_self": null,
            "height": null,
            "min_height": null,
            "padding": null,
            "grid_auto_rows": null,
            "grid_gap": null,
            "max_width": null,
            "order": null,
            "_view_module_version": "1.2.0",
            "grid_template_areas": null,
            "object_position": null,
            "object_fit": null,
            "grid_auto_columns": null,
            "margin": null,
            "display": null,
            "left": null
          }
        },
        "d9f95ee585014ae49b8f6eca1726068d": {
          "model_module": "@jupyter-widgets/controls",
          "model_name": "HBoxModel",
          "state": {
            "_view_name": "HBoxView",
            "_dom_classes": [],
            "_model_name": "HBoxModel",
            "_view_module": "@jupyter-widgets/controls",
            "_model_module_version": "1.5.0",
            "_view_count": null,
            "_view_module_version": "1.5.0",
            "box_style": "",
            "layout": "IPY_MODEL_027f849941be44aea019c9f56e04167f",
            "_model_module": "@jupyter-widgets/controls",
            "children": [
              "IPY_MODEL_5e9e660f27444e3fb2f287fcdbba4c62",
              "IPY_MODEL_c9085258111d486f8aa6df60b7c1fb4d"
            ]
          }
        },
        "027f849941be44aea019c9f56e04167f": {
          "model_module": "@jupyter-widgets/base",
          "model_name": "LayoutModel",
          "state": {
            "_view_name": "LayoutView",
            "grid_template_rows": null,
            "right": null,
            "justify_content": null,
            "_view_module": "@jupyter-widgets/base",
            "overflow": null,
            "_model_module_version": "1.2.0",
            "_view_count": null,
            "flex_flow": null,
            "width": null,
            "min_width": null,
            "border": null,
            "align_items": null,
            "bottom": null,
            "_model_module": "@jupyter-widgets/base",
            "top": null,
            "grid_column": null,
            "overflow_y": null,
            "overflow_x": null,
            "grid_auto_flow": null,
            "grid_area": null,
            "grid_template_columns": null,
            "flex": null,
            "_model_name": "LayoutModel",
            "justify_items": null,
            "grid_row": null,
            "max_height": null,
            "align_content": null,
            "visibility": null,
            "align_self": null,
            "height": null,
            "min_height": null,
            "padding": null,
            "grid_auto_rows": null,
            "grid_gap": null,
            "max_width": null,
            "order": null,
            "_view_module_version": "1.2.0",
            "grid_template_areas": null,
            "object_position": null,
            "object_fit": null,
            "grid_auto_columns": null,
            "margin": null,
            "display": null,
            "left": null
          }
        },
        "5e9e660f27444e3fb2f287fcdbba4c62": {
          "model_module": "@jupyter-widgets/controls",
          "model_name": "FloatProgressModel",
          "state": {
            "_view_name": "ProgressView",
            "style": "IPY_MODEL_489496a0a5be4b35a6f0f9cbac1464e5",
            "_dom_classes": [],
            "description": "Downloading: 100%",
            "_model_name": "FloatProgressModel",
            "bar_style": "success",
            "max": 411578458,
            "_view_module": "@jupyter-widgets/controls",
            "_model_module_version": "1.5.0",
            "value": 411578458,
            "_view_count": null,
            "_view_module_version": "1.5.0",
            "orientation": "horizontal",
            "min": 0,
            "description_tooltip": null,
            "_model_module": "@jupyter-widgets/controls",
            "layout": "IPY_MODEL_d9cef81273964ce39df21cdbf4d11769"
          }
        },
        "c9085258111d486f8aa6df60b7c1fb4d": {
          "model_module": "@jupyter-widgets/controls",
          "model_name": "HTMLModel",
          "state": {
            "_view_name": "HTMLView",
            "style": "IPY_MODEL_cab243e733a442a0a813a72f0430140c",
            "_dom_classes": [],
            "description": "",
            "_model_name": "HTMLModel",
            "placeholder": "​",
            "_view_module": "@jupyter-widgets/controls",
            "_model_module_version": "1.5.0",
            "value": " 412M/412M [00:05&lt;00:00, 74.1MB/s]",
            "_view_count": null,
            "_view_module_version": "1.5.0",
            "description_tooltip": null,
            "_model_module": "@jupyter-widgets/controls",
            "layout": "IPY_MODEL_b59d5eba2e4346c790639b3ebe209ce0"
          }
        },
        "489496a0a5be4b35a6f0f9cbac1464e5": {
          "model_module": "@jupyter-widgets/controls",
          "model_name": "ProgressStyleModel",
          "state": {
            "_view_name": "StyleView",
            "_model_name": "ProgressStyleModel",
            "description_width": "initial",
            "_view_module": "@jupyter-widgets/base",
            "_model_module_version": "1.5.0",
            "_view_count": null,
            "_view_module_version": "1.2.0",
            "bar_color": null,
            "_model_module": "@jupyter-widgets/controls"
          }
        },
        "d9cef81273964ce39df21cdbf4d11769": {
          "model_module": "@jupyter-widgets/base",
          "model_name": "LayoutModel",
          "state": {
            "_view_name": "LayoutView",
            "grid_template_rows": null,
            "right": null,
            "justify_content": null,
            "_view_module": "@jupyter-widgets/base",
            "overflow": null,
            "_model_module_version": "1.2.0",
            "_view_count": null,
            "flex_flow": null,
            "width": null,
            "min_width": null,
            "border": null,
            "align_items": null,
            "bottom": null,
            "_model_module": "@jupyter-widgets/base",
            "top": null,
            "grid_column": null,
            "overflow_y": null,
            "overflow_x": null,
            "grid_auto_flow": null,
            "grid_area": null,
            "grid_template_columns": null,
            "flex": null,
            "_model_name": "LayoutModel",
            "justify_items": null,
            "grid_row": null,
            "max_height": null,
            "align_content": null,
            "visibility": null,
            "align_self": null,
            "height": null,
            "min_height": null,
            "padding": null,
            "grid_auto_rows": null,
            "grid_gap": null,
            "max_width": null,
            "order": null,
            "_view_module_version": "1.2.0",
            "grid_template_areas": null,
            "object_position": null,
            "object_fit": null,
            "grid_auto_columns": null,
            "margin": null,
            "display": null,
            "left": null
          }
        },
        "cab243e733a442a0a813a72f0430140c": {
          "model_module": "@jupyter-widgets/controls",
          "model_name": "DescriptionStyleModel",
          "state": {
            "_view_name": "StyleView",
            "_model_name": "DescriptionStyleModel",
            "description_width": "",
            "_view_module": "@jupyter-widgets/base",
            "_model_module_version": "1.5.0",
            "_view_count": null,
            "_view_module_version": "1.2.0",
            "_model_module": "@jupyter-widgets/controls"
          }
        },
        "b59d5eba2e4346c790639b3ebe209ce0": {
          "model_module": "@jupyter-widgets/base",
          "model_name": "LayoutModel",
          "state": {
            "_view_name": "LayoutView",
            "grid_template_rows": null,
            "right": null,
            "justify_content": null,
            "_view_module": "@jupyter-widgets/base",
            "overflow": null,
            "_model_module_version": "1.2.0",
            "_view_count": null,
            "flex_flow": null,
            "width": null,
            "min_width": null,
            "border": null,
            "align_items": null,
            "bottom": null,
            "_model_module": "@jupyter-widgets/base",
            "top": null,
            "grid_column": null,
            "overflow_y": null,
            "overflow_x": null,
            "grid_auto_flow": null,
            "grid_area": null,
            "grid_template_columns": null,
            "flex": null,
            "_model_name": "LayoutModel",
            "justify_items": null,
            "grid_row": null,
            "max_height": null,
            "align_content": null,
            "visibility": null,
            "align_self": null,
            "height": null,
            "min_height": null,
            "padding": null,
            "grid_auto_rows": null,
            "grid_gap": null,
            "max_width": null,
            "order": null,
            "_view_module_version": "1.2.0",
            "grid_template_areas": null,
            "object_position": null,
            "object_fit": null,
            "grid_auto_columns": null,
            "margin": null,
            "display": null,
            "left": null
          }
        }
      }
    }
  },
  "cells": [
    {
      "cell_type": "markdown",
      "metadata": {
        "id": "view-in-github",
        "colab_type": "text"
      },
      "source": [
        "<a href=\"https://colab.research.google.com/github/eric88525/ChineseNL2SQL/blob/master/evaluate.ipynb\" target=\"_parent\"><img src=\"https://colab.research.google.com/assets/colab-badge.svg\" alt=\"Open In Colab\"/></a>"
      ]
    },
    {
      "cell_type": "code",
      "metadata": {
        "id": "GASGoYDONeW1",
        "outputId": "2d2c0132-0cba-463d-b845-951782aa2f2b",
        "colab": {
          "base_uri": "https://localhost:8080/",
          "height": 1000
        }
      },
      "source": [
        "!pip install transformers==3.0.2\n",
        "!pip install cn2an\n",
        "!pip install pyprind"
      ],
      "execution_count": null,
      "outputs": [
        {
          "output_type": "stream",
          "text": [
            "Collecting transformers==3.0.2\n",
            "\u001b[?25l  Downloading https://files.pythonhosted.org/packages/27/3c/91ed8f5c4e7ef3227b4119200fc0ed4b4fd965b1f0172021c25701087825/transformers-3.0.2-py3-none-any.whl (769kB)\n",
            "\u001b[K     |████████████████████████████████| 778kB 4.5MB/s \n",
            "\u001b[?25hRequirement already satisfied: packaging in /usr/local/lib/python3.6/dist-packages (from transformers==3.0.2) (20.4)\n",
            "Collecting sentencepiece!=0.1.92\n",
            "\u001b[?25l  Downloading https://files.pythonhosted.org/packages/d4/a4/d0a884c4300004a78cca907a6ff9a5e9fe4f090f5d95ab341c53d28cbc58/sentencepiece-0.1.91-cp36-cp36m-manylinux1_x86_64.whl (1.1MB)\n",
            "\u001b[K     |████████████████████████████████| 1.1MB 13.9MB/s \n",
            "\u001b[?25hRequirement already satisfied: numpy in /usr/local/lib/python3.6/dist-packages (from transformers==3.0.2) (1.18.5)\n",
            "Collecting sacremoses\n",
            "\u001b[?25l  Downloading https://files.pythonhosted.org/packages/7d/34/09d19aff26edcc8eb2a01bed8e98f13a1537005d31e95233fd48216eed10/sacremoses-0.0.43.tar.gz (883kB)\n",
            "\u001b[K     |████████████████████████████████| 890kB 26.1MB/s \n",
            "\u001b[?25hRequirement already satisfied: filelock in /usr/local/lib/python3.6/dist-packages (from transformers==3.0.2) (3.0.12)\n",
            "Requirement already satisfied: regex!=2019.12.17 in /usr/local/lib/python3.6/dist-packages (from transformers==3.0.2) (2019.12.20)\n",
            "Requirement already satisfied: dataclasses; python_version < \"3.7\" in /usr/local/lib/python3.6/dist-packages (from transformers==3.0.2) (0.7)\n",
            "Requirement already satisfied: requests in /usr/local/lib/python3.6/dist-packages (from transformers==3.0.2) (2.23.0)\n",
            "Requirement already satisfied: tqdm>=4.27 in /usr/local/lib/python3.6/dist-packages (from transformers==3.0.2) (4.41.1)\n",
            "Collecting tokenizers==0.8.1.rc1\n",
            "\u001b[?25l  Downloading https://files.pythonhosted.org/packages/40/d0/30d5f8d221a0ed981a186c8eb986ce1c94e3a6e87f994eae9f4aa5250217/tokenizers-0.8.1rc1-cp36-cp36m-manylinux1_x86_64.whl (3.0MB)\n",
            "\u001b[K     |████████████████████████████████| 3.0MB 51.9MB/s \n",
            "\u001b[?25hRequirement already satisfied: six in /usr/local/lib/python3.6/dist-packages (from packaging->transformers==3.0.2) (1.15.0)\n",
            "Requirement already satisfied: pyparsing>=2.0.2 in /usr/local/lib/python3.6/dist-packages (from packaging->transformers==3.0.2) (2.4.7)\n",
            "Requirement already satisfied: click in /usr/local/lib/python3.6/dist-packages (from sacremoses->transformers==3.0.2) (7.1.2)\n",
            "Requirement already satisfied: joblib in /usr/local/lib/python3.6/dist-packages (from sacremoses->transformers==3.0.2) (0.16.0)\n",
            "Requirement already satisfied: idna<3,>=2.5 in /usr/local/lib/python3.6/dist-packages (from requests->transformers==3.0.2) (2.10)\n",
            "Requirement already satisfied: chardet<4,>=3.0.2 in /usr/local/lib/python3.6/dist-packages (from requests->transformers==3.0.2) (3.0.4)\n",
            "Requirement already satisfied: certifi>=2017.4.17 in /usr/local/lib/python3.6/dist-packages (from requests->transformers==3.0.2) (2020.6.20)\n",
            "Requirement already satisfied: urllib3!=1.25.0,!=1.25.1,<1.26,>=1.21.1 in /usr/local/lib/python3.6/dist-packages (from requests->transformers==3.0.2) (1.24.3)\n",
            "Building wheels for collected packages: sacremoses\n",
            "  Building wheel for sacremoses (setup.py) ... \u001b[?25l\u001b[?25hdone\n",
            "  Created wheel for sacremoses: filename=sacremoses-0.0.43-cp36-none-any.whl size=893257 sha256=bb0f2284312d7e73d34f75490cf16108072d9db9940b82e148c80608ae2802f2\n",
            "  Stored in directory: /root/.cache/pip/wheels/29/3c/fd/7ce5c3f0666dab31a50123635e6fb5e19ceb42ce38d4e58f45\n",
            "Successfully built sacremoses\n",
            "Installing collected packages: sentencepiece, sacremoses, tokenizers, transformers\n",
            "Successfully installed sacremoses-0.0.43 sentencepiece-0.1.91 tokenizers-0.8.1rc1 transformers-3.0.2\n",
            "Collecting cn2an\n",
            "  Downloading https://files.pythonhosted.org/packages/e7/94/5a6b411798494b6a458a241d457ecf76cf0b32d5e76a0437c0d82b56a5d7/cn2an-0.5.7-py3-none-any.whl\n",
            "Collecting PyYAML>=5.3.1\n",
            "\u001b[?25l  Downloading https://files.pythonhosted.org/packages/64/c2/b80047c7ac2478f9501676c988a5411ed5572f35d1beff9cae07d321512c/PyYAML-5.3.1.tar.gz (269kB)\n",
            "\u001b[K     |████████████████████████████████| 276kB 7.7MB/s \n",
            "\u001b[?25hRequirement already satisfied: setuptools>=47.3.1 in /usr/local/lib/python3.6/dist-packages (from cn2an) (50.3.0)\n",
            "Building wheels for collected packages: PyYAML\n",
            "  Building wheel for PyYAML (setup.py) ... \u001b[?25l\u001b[?25hdone\n",
            "  Created wheel for PyYAML: filename=PyYAML-5.3.1-cp36-cp36m-linux_x86_64.whl size=44619 sha256=c44faef57e44e19fe8484a56796695be7a6c94a9318318266eb4cd1d04fc77e9\n",
            "  Stored in directory: /root/.cache/pip/wheels/a7/c1/ea/cf5bd31012e735dc1dfea3131a2d5eae7978b251083d6247bd\n",
            "Successfully built PyYAML\n",
            "Installing collected packages: PyYAML, cn2an\n",
            "  Found existing installation: PyYAML 3.13\n",
            "    Uninstalling PyYAML-3.13:\n",
            "      Successfully uninstalled PyYAML-3.13\n",
            "Successfully installed PyYAML-5.3.1 cn2an-0.5.7\n",
            "Collecting pyprind\n",
            "  Downloading https://files.pythonhosted.org/packages/1e/30/e76fb0c45da8aef49ea8d2a90d4e7a6877b45894c25f12fb961f009a891e/PyPrind-2.11.2-py3-none-any.whl\n",
            "Installing collected packages: pyprind\n",
            "Successfully installed pyprind-2.11.2\n"
          ],
          "name": "stdout"
        }
      ]
    },
    {
      "cell_type": "code",
      "metadata": {
        "id": "8ck8_3mslm_F",
        "outputId": "25fedafa-491b-41c8-e710-a5429b3d131d",
        "colab": {
          "base_uri": "https://localhost:8080/",
          "height": 54
        }
      },
      "source": [
        "from google.colab import drive\n",
        "drive.mount(\"/content/drive\", force_remount=True)\n",
        "!mkdir -p drive\n",
        "!google-drive-ocamlfuse drive\n"
      ],
      "execution_count": null,
      "outputs": [
        {
          "output_type": "stream",
          "text": [
            "Mounted at /content/drive\n",
            "/bin/bash: google-drive-ocamlfuse: command not found\n"
          ],
          "name": "stdout"
        }
      ]
    },
    {
      "cell_type": "code",
      "metadata": {
        "id": "lTvSYLpYl_7Q",
        "outputId": "acf4d21e-053b-46fc-a042-b41bd0f5d58d",
        "colab": {
          "base_uri": "https://localhost:8080/",
          "height": 35
        }
      },
      "source": [
        "%cd ./drive/My\\ Drive/Colab\\ Notebooks/NL2SQL_TAN"
      ],
      "execution_count": null,
      "outputs": [
        {
          "output_type": "stream",
          "text": [
            "/content/drive/My Drive/Colab Notebooks/NL2SQL_TAN\n"
          ],
          "name": "stdout"
        }
      ]
    },
    {
      "cell_type": "code",
      "metadata": {
        "id": "73-NOgBoln6O"
      },
      "source": [
        "import json\n",
        "import pandas as pd\n",
        "import numpy as np\n",
        "import torch\n",
        "import torch.nn as nn\n",
        "from transformers import *\n",
        "from torch.utils.data import Dataset\n",
        "from torch.utils.data import DataLoader\n",
        "import cn2an\n",
        "import re"
      ],
      "execution_count": null,
      "outputs": []
    },
    {
      "cell_type": "markdown",
      "metadata": {
        "id": "320jPEDnlumr"
      },
      "source": [
        "# 資料來源"
      ]
    },
    {
      "cell_type": "code",
      "metadata": {
        "id": "RiS7NKsamKSx"
      },
      "source": [
        "# get all\n",
        "\n",
        "class T2Sdataset():\n",
        "  def __init__(self,train_table_path=None,train_data_path=None,test_table_path=None,test_data_path=None,dev_table_path=None,dev_data_path=None,):\n",
        "    \n",
        "    if train_table_path != None:\n",
        "      self.train_dict = self.get_table(train_table_path)\n",
        "      self.train_data = self.get_data(self.train_dict,train_data_path)\n",
        "\n",
        "    if test_table_path != None:\n",
        "      self.test_dict = self.get_table(test_table_path)\n",
        "      self.test_data = self.get_data(self.test_dict,test_data_path)\n",
        "    if dev_table_path != None:\n",
        "      self.dev_dict = self.get_table(dev_table_path)\n",
        "      self.dev_data = self.get_data(self.dev_dict,dev_data_path)\n",
        "  # get the dict of id->header\n",
        "  def get_table(self,path): \n",
        "    id_header = {} \n",
        "    with open(path, 'r') as json_file:\n",
        "      json_list = list(json_file)\n",
        "    for json_str in json_list:\n",
        "      result = json.loads(json_str)\n",
        "      id_header[result['id']] = [result['header'],result['types'],result['rows']]\n",
        "    return id_header\n",
        "\n",
        "  def get_data(self,id_header,path):\n",
        "    data = []\n",
        "    with open(path, 'r') as json_file:\n",
        "      json_list = list(json_file)\n",
        "\n",
        "    for j in json_list:\n",
        "      j = json.loads(j)\n",
        "      dic = dict(j)\n",
        "      dic[\"header\"] = id_header[j['table_id']]\n",
        "      data.append(dic)\n",
        "    \n",
        "    return data"
      ],
      "execution_count": null,
      "outputs": []
    },
    {
      "cell_type": "markdown",
      "metadata": {
        "id": "fvw8FReulw8G"
      },
      "source": [
        "# 模型"
      ]
    },
    {
      "cell_type": "code",
      "metadata": {
        "id": "7PlTTaChmU8h"
      },
      "source": [
        "class N2Sm1(nn.Module):\n",
        "  def __init__(self,model_type):\n",
        "    super(N2Sm1,self).__init__()\n",
        "    config = BertConfig.from_pretrained(model_type)\n",
        "    self.bert_model = BertModel.from_pretrained(model_type,config = config)\n",
        "    self.cond_conn_op_decoder = nn.Linear(config.hidden_size,3)\n",
        "    self.agg_deocder = nn.Linear(config.hidden_size,7)\n",
        "    self.cond_op_decoder = nn.Linear(config.hidden_size,5)\n",
        "\n",
        "  # 取得header_ids 所標記的 token\n",
        "  def get_agg_hiddens(self,hiddens,header_ids):\n",
        "    # header_ids [bsize,headers_idx]\n",
        "    # hiddens [bsize,seqlength,worddim]\n",
        "    arr = []\n",
        "    for b_idx in range(0,hiddens.shape[0]):\n",
        "      s = torch.stack([hiddens[b_idx][i] for i in header_ids[b_idx]],dim=0)\n",
        "      arr.append(s)\n",
        "    return torch.stack(arr,dim=0)\n",
        "\n",
        "  def forward(self,input_ids=None,attention_mask=None,token_type_ids=None,header_ids=None): \n",
        "    # hidden [bsize,seqlength,worddim] cls [bsize,worddim]\n",
        "    hiddens,cls = self.bert_model(input_ids=input_ids,attention_mask=attention_mask,token_type_ids=token_type_ids)\n",
        "    cond_conn_op = self.cond_conn_op_decoder(cls)\n",
        "    header_hiddens = self.get_agg_hiddens(hiddens,header_ids)\n",
        "    agg = self.agg_deocder(header_hiddens)\n",
        "    cond_op = self.cond_op_decoder(header_hiddens)\n",
        "    # cond_conn_op [bsize,3]   \n",
        "    # cond_op [bize,header_length,5]\n",
        "    # agg [bize,header_length,7] \n",
        "    return cond_conn_op,cond_op , agg"
      ],
      "execution_count": null,
      "outputs": []
    },
    {
      "cell_type": "code",
      "metadata": {
        "id": "rf1eVJ3PmMPq"
      },
      "source": [
        "class N2Sm2(nn.Module):\n",
        "  def __init__(self,model_type):\n",
        "    super(N2Sm2,self).__init__()\n",
        "    config = BertConfig.from_pretrained(model_type)\n",
        "    self.bert_model = BertModel.from_pretrained(model_type,config = config)\n",
        "    self.decoder = nn.Sequential(\n",
        "        nn.Linear(config.hidden_size,1),\n",
        "        nn.Sigmoid()\n",
        "    )\n",
        "    \n",
        "  def forward(self,input_ids=None,attention_mask=None,token_type_ids=None,header_ids=None): \n",
        "    # hidden [bsize,seqlength,worddim] cls [bsize,worddim]\n",
        "    hiddens,cls = self.bert_model(input_ids=input_ids,attention_mask=attention_mask,token_type_ids=token_type_ids)\n",
        "    return self.decoder(cls)"
      ],
      "execution_count": null,
      "outputs": []
    },
    {
      "cell_type": "markdown",
      "metadata": {
        "id": "2Y3KKzOdxKOE"
      },
      "source": [
        "# 抽數字"
      ]
    },
    {
      "cell_type": "code",
      "metadata": {
        "id": "Xx8x3N-PxHpR"
      },
      "source": [
        "def is_float(value):\n",
        "    try:\n",
        "        float(value)\n",
        "        return True\n",
        "    except ValueError:\n",
        "        return False\n",
        "\n",
        "def cn_to_an(string):\n",
        "    try:\n",
        "        return str(cn2an.cn2an(string, 'normal'))\n",
        "    except ValueError:\n",
        "        return string\n",
        "\n",
        "def an_to_cn(string):\n",
        "    try:\n",
        "        return str(cn2an.an2cn(string))\n",
        "    except ValueError:\n",
        "        return string\n",
        "\n",
        "def str_to_num(string):\n",
        "    try:\n",
        "        float_val = float(cn_to_an(string))\n",
        "        if int(float_val) == float_val:   \n",
        "            return str(int(float_val))\n",
        "        else:\n",
        "            return str(float_val)\n",
        "    except ValueError:\n",
        "        return None\n",
        "\n",
        "def str_to_year(string):\n",
        "    year = string.replace('年', '')\n",
        "    year = cn_to_an(year)\n",
        "    if is_float(year) and float(year) < 1900:\n",
        "        year = int(year) + 2000\n",
        "        return str(year)\n",
        "    else:\n",
        "        return None\n",
        "    \n",
        "def load_json(json_file):\n",
        "    result = []\n",
        "    if json_file:\n",
        "        with open(json_file) as file:\n",
        "            for line in file:\n",
        "                result.append(json.loads(line))\n",
        "    return result"
      ],
      "execution_count": null,
      "outputs": []
    },
    {
      "cell_type": "code",
      "metadata": {
        "id": "4enEN1xixJdt"
      },
      "source": [
        "def extract_values_from_text(text):\n",
        "        values = []\n",
        "        values += extract_year_from_text(text)\n",
        "        values += extract_num_from_text(text)\n",
        "        return list(set(values))\n",
        "\n",
        "def extract_num_from_text(text):\n",
        "    CN_NUM = '〇一二三四五六七八九零壹贰叁肆伍陆柒捌玖貮两'\n",
        "    CN_UNIT = '十拾百佰千仟万萬亿億兆点'\n",
        "    values = []\n",
        "    num_values = re.findall(r'[-+]?[0-9]*\\.?[0-9]+', text)\n",
        "    values += num_values\n",
        "        \n",
        "    cn_num_unit = CN_NUM +CN_UNIT\n",
        "    cn_num_texts = re.findall(r'[{}]*\\.?[{}]+'.format(cn_num_unit, cn_num_unit), text)\n",
        "    cn_num_values = [str_to_num(text) for text in cn_num_texts]\n",
        "    values += [value for value in cn_num_values if value is not None]\n",
        "    \n",
        "    cn_num_mix = re.findall(r'[0-9]*\\.?[{}]+'.format(CN_UNIT), text)\n",
        "    for word in cn_num_mix:\n",
        "        num = re.findall(r'[-+]?[0-9]*\\.?[0-9]+', word)\n",
        "        for n in num:\n",
        "            word = word.replace(n, an_to_cn(n))\n",
        "        str_num = str_to_num(word)\n",
        "        if str_num is not None:\n",
        "            values.append(str_num)\n",
        "    return values\n",
        "\n",
        "\n",
        "def extract_year_from_text(text):\n",
        "  values = []\n",
        "  CN_NUM = '〇一二三四五六七八九零壹贰叁肆伍陆柒捌玖貮两'\n",
        "  CN_UNIT = '十拾百佰千仟万萬亿億兆点'\n",
        "  num_year_texts = re.findall(r'[0-9][0-9]年', text)\n",
        "  values += ['20{}'.format(text[:-1]) for text in num_year_texts]\n",
        "  cn_year_texts = re.findall(r'[{}][{}]年'.format(CN_NUM,CN_NUM), text)\n",
        "  cn_year_values = [str_to_year(text) for text in cn_year_texts]\n",
        "  values += [value for value in cn_year_values if value is not None]\n",
        "  return values"
      ],
      "execution_count": null,
      "outputs": []
    },
    {
      "cell_type": "markdown",
      "metadata": {
        "id": "tmHLSNuUlycF"
      },
      "source": [
        "# 打包\n",
        "+ M1 : (Question,headers)\n",
        "+ M2 : (question,condition)\n",
        "+ NL2SQL: (data)\n",
        "+ data\n",
        "  + table_id:\n",
        "  + question: 呃共有多少家公司17年定增，而且是为了配套融资的呀\n",
        "  + headers:[['h1','h2','h3'],['text','real','text']] \n",
        "  + table [['上海',1,'下雨'],[],[]...]"
      ]
    },
    {
      "cell_type": "code",
      "metadata": {
        "id": "KkwUABIsmaUJ"
      },
      "source": [
        "class M1():\n",
        "  def __init__(self,model_path,model_type,device): \n",
        "    \n",
        "    # device\n",
        "    self.device = device\n",
        "    \n",
        "    # model & tokenizer\n",
        "    # model_type = 'hfl/chinese-wwm-ext'\n",
        "    config = BertConfig.from_pretrained(model_type)\n",
        "    self.tokenizer = BertTokenizer.from_pretrained(model_type)\n",
        "    self.model = N2Sm1(model_type).to(self.device)\n",
        "    self.model.load_state_dict(torch.load(model_path)) \n",
        "\n",
        "  def go(self,question,headers):\n",
        "    # headerse_list : a list like: [['c1','c2'],['text','real']]\n",
        "    # question  : 长沙2011年平均每天成交量是3.17，那么近一周的成交量是多少\n",
        "    # 會回傳 conn_op:[0-2] agg: header_count * 7 cond header_count*5\n",
        "    all_tokens = self.tokenizer.tokenize(question)\n",
        "    col_type_token_dict = {'text': '[unused11]', 'real': '[unused12]'}\n",
        "    for h,t in zip(headers[0],headers[1]):\n",
        "      tokens = ['[SEP]',col_type_token_dict[t]] + self.tokenizer.tokenize(h)\n",
        "      all_tokens = all_tokens + tokens\n",
        "    # get the header token place \n",
        "    header_ids = []\n",
        "    for i in range(len(all_tokens)):\n",
        "      if all_tokens[i] == col_type_token_dict['text'] or all_tokens[i] == col_type_token_dict['real']:\n",
        "        header_ids.append(i+1)\n",
        "    plus = self.tokenizer.encode_plus(all_tokens)\n",
        "    input_ids,token_type_ids,attention_mask,header_ids = torch.tensor(plus['input_ids']).unsqueeze(0)\\\n",
        "    ,torch.tensor(plus['token_type_ids']).unsqueeze(0),\\\n",
        "      torch.tensor(plus['attention_mask']).unsqueeze(0), torch.tensor(header_ids).unsqueeze(0)\n",
        "    # pred\n",
        "    cond_conn_op_pred,conds_ops_pred ,agg_pred = self.model(input_ids=input_ids,attention_mask=attention_mask,token_type_ids=token_type_ids,header_ids=header_ids)\n",
        "    result = {}\n",
        "    result['conn_op'] = torch.argmax(cond_conn_op_pred.squeeze(),dim=-1).numpy()\n",
        "    result['agg'] = torch.argmax(agg_pred.squeeze(),dim=-1).numpy()\n",
        "    result['cond'] = torch.argmax(conds_ops_pred.squeeze(),dim=-1).numpy()\n",
        "    \n",
        "    return result\n",
        "\n",
        "\n",
        "    \n",
        "   "
      ],
      "execution_count": null,
      "outputs": []
    },
    {
      "cell_type": "code",
      "metadata": {
        "id": "JFR4M5yGmgs-"
      },
      "source": [
        "class M2():\n",
        "  def __init__(self,model_path,model_type,device): \n",
        "    \n",
        "    # device\n",
        "    self.device = device\n",
        "    \n",
        "    # model & tokenizer\n",
        "    # model_type = 'hfl/chinese-wwm-ext'\n",
        "    config = BertConfig.from_pretrained(model_type)\n",
        "    self.tokenizer = BertTokenizer.from_pretrained(model_type)\n",
        "    self.model = N2Sm2(model_type).to(self.device)\n",
        "    self.model.load_state_dict(torch.load(model_path)) \n",
        "  def go(self,question,value):\n",
        "    ids =  self.tokenizer.encode_plus(question,value)\n",
        "    for k in ids.keys():\n",
        "      ids[k] = torch.tensor(ids[k]).to(self.device)\n",
        "    input_ids,token_type_ids,attention_mask = ids['input_ids'].unsqueeze(0),ids['token_type_ids'].unsqueeze(0),ids['attention_mask'].unsqueeze(0)\n",
        "    pred = self.model(input_ids=input_ids,attention_mask=attention_mask,token_type_ids=token_type_ids).squeeze().item()\n",
        "    return pred\n"
      ],
      "execution_count": null,
      "outputs": []
    },
    {
      "cell_type": "code",
      "metadata": {
        "id": "e5vzWo93yJo4"
      },
      "source": [
        "# 終極版本\n",
        "class NL2SQL():\n",
        "  def __init__(self,model_type,device,m1_path,m2_path,analyze=False):\n",
        "    # device\n",
        "    self.device = device\n",
        "    # model & tokenizer\n",
        "    # model_type = 'hfl/chinese-wwm-ext'\n",
        "    config = BertConfig.from_pretrained(model_type)\n",
        "    self.tokenizer = BertTokenizer.from_pretrained(model_type)\n",
        "    self.model_1 = N2Sm1(model_type).to(self.device)\n",
        "    self.model_1.load_state_dict(torch.load(m1_path)) \n",
        "    self.model_2 = N2Sm2(model_type).to(self.device)\n",
        "    self.model_2.load_state_dict(torch.load(m2_path))\n",
        "    self.analyze = analyze\n",
        "  def get_m1_output(self,question,headers):\n",
        "    all_tokens = self.tokenizer.tokenize(question)\n",
        "    col_type_token_dict = {'text': '[unused11]', 'real': '[unused12]'}\n",
        "    for h,t in zip(headers[0],headers[1]):\n",
        "      tokens = ['[SEP]',col_type_token_dict[t]] + self.tokenizer.tokenize(h)\n",
        "      all_tokens = all_tokens + tokens\n",
        "    # get the header token place \n",
        "    header_ids = []\n",
        "    for i in range(len(all_tokens)):\n",
        "      if all_tokens[i] == col_type_token_dict['text'] or all_tokens[i] == col_type_token_dict['real']:\n",
        "        header_ids.append(i+1)\n",
        "    plus = self.tokenizer.encode_plus(all_tokens)\n",
        "    input_ids,token_type_ids,attention_mask,header_ids = torch.tensor(plus['input_ids']).unsqueeze(0).to(self.device)\\\n",
        "    ,torch.tensor(plus['token_type_ids']).unsqueeze(0).to(self.device),\\\n",
        "      torch.tensor(plus['attention_mask']).unsqueeze(0).to(self.device), torch.tensor(header_ids).unsqueeze(0).to(self.device)\n",
        "    # pred\n",
        "    cond_conn_op_pred,conds_ops_pred ,agg_pred = self.model_1(input_ids=input_ids,attention_mask=attention_mask,token_type_ids=token_type_ids,header_ids=header_ids)\n",
        "    result = {}\n",
        "    result['conn_op'] = torch.argmax(cond_conn_op_pred.squeeze(),dim=-1).to('cpu').numpy()\n",
        "    result['agg'] = torch.argmax(agg_pred.squeeze(),dim=-1).to('cpu').numpy()\n",
        "    result['cond'] = torch.argmax(conds_ops_pred.squeeze(),dim=-1).to('cpu').numpy()\n",
        "    return result\n",
        "  def get_m2_output(self,question,cond):\n",
        "    ids =  self.tokenizer.encode_plus(question,cond)\n",
        "    for k in ids.keys():\n",
        "      ids[k] = torch.tensor(ids[k]).to(self.device)\n",
        "    input_ids,token_type_ids,attention_mask = ids['input_ids'].unsqueeze(0).to(self.device),ids['token_type_ids'].unsqueeze(0).to(self.device),ids['attention_mask'].unsqueeze(0).to(self.device)\n",
        "    pred = self.model_2(input_ids=input_ids,attention_mask=attention_mask,token_type_ids=token_type_ids).squeeze().item()\n",
        "    return pred\n",
        "\n",
        "  def get_sql(self,data,m1,table):\n",
        "   # {'agg': array([6, 4, 6, 6, 6, 6, 6, 6, 6, 6, 6, 6, 6]),\n",
        "   # 'cond': array([4, 4, 4, 0, 0, 4, 4, 4, 4, 4, 4, 4, 4]),\n",
        "   # 'conn_op': array(1)}\n",
        "    result = ''\n",
        "    conn_map = ['','AND','OR']\n",
        "    agg_map = ['','AVG','MAX','MIN','COUNT','SUM','']\n",
        "    cond_map = ['>','<','=','!=','']\n",
        "    agg,cond,conn_op = m1['agg'],m1['cond'],conn_map[m1['conn_op']]\n",
        "    headers = data['headers']\n",
        "    pre = ''   \n",
        "    result += \"SELECT \"\n",
        "    for col,val in enumerate(agg):\n",
        "      if val!=6:\n",
        "        result += pre+agg_map[val]+' '+headers[0][col]\n",
        "        pre= ' , '\n",
        "    # where condition       \n",
        "    result += ' WHERE '\n",
        "    pre = ''\n",
        "    for col,val in enumerate(cond):\n",
        "      if val!=4:\n",
        "        if data['headers'][1][col] == 'text':\n",
        "          values_list = set([r[col] for r in table]) # value from table\n",
        "        elif data['headers'][1][col] == 'real':\n",
        "          values_list = extract_values_from_text(data['question']) # value from question\n",
        "          if self.analyze:\n",
        "            print(values_list,'number from question')\n",
        "        for v in values_list:\n",
        "          cond = headers[0][col]+cond_map[val]+str(v)\n",
        "          p = self.get_m2_output( data['question'],cond ) \n",
        "          if self.analyze:\n",
        "            print(cond,p)\n",
        "          if p > 0.5:\n",
        "            result += pre + cond + ' '\n",
        "            pre = conn_op+' '\n",
        "       \n",
        "    return result\n",
        "  def go(self,data):\n",
        "    # data:\n",
        "    #   table_id:\n",
        "    #   question:\n",
        "    #   headers:[['h1','h2','h3'],['text','real','text']] \n",
        "    #   table [['上海',1,'下雨'],[],[]...]\n",
        "    \n",
        "    m1 = self.get_m1_output(data[\"question\"],data[\"headers\"])\n",
        "    result = self.get_sql(data,m1,data[\"table\"])\n",
        "    return  result\n"
      ],
      "execution_count": null,
      "outputs": []
    },
    {
      "cell_type": "markdown",
      "metadata": {
        "id": "1k1lNcD7l2RS"
      },
      "source": [
        "# 操作"
      ]
    },
    {
      "cell_type": "code",
      "metadata": {
        "id": "kW3xzi5Y4ntl"
      },
      "source": [
        "path1 = './saved_models/M1.pt'\n",
        "path2 = './saved_models/M2_05.pt'\n",
        "model_type = 'hfl/chinese-bert-wwm'\n",
        "model = NL2SQL(model_type,torch.device('cuda:0'),path1,path2,True)"
      ],
      "execution_count": null,
      "outputs": []
    },
    {
      "cell_type": "code",
      "metadata": {
        "id": "8pkRcHy_DoMs"
      },
      "source": [
        "data = {\n",
        "    'question': '呃共有多少家公司17年定增，而且是为了配套融资的呀', \n",
        "    'headers': [['证券代码', '证券简称', '最新收盘价', '定增价除权后至今价格', '增发价格', '倒挂率', '定增年度', '增发目的'], ['text', 'text', 'real', 'real', 'real', 'real', 'real', 'text']], \n",
        "    'table': [['002678.SZ', '珠江钢琴', 5.82, 9.37, 12.3, 62.09, 2017.0, '项目融资'], \n",
        "          ['002696.SZ', '百洋股份', 8.87, 10.53, 18.19, 84.26, 2017.0, '配套融资'], \n",
        "          ['002696.SZ', '百洋股份', 8.87, 12.0, 20.73, 73.93, 2017.0, '融资收购其他资产'], \n",
        "          ['300044.SZ', '赛为智能', 6.62, 7.24, 13.06, 91.49, 2017.0, '融资收购其他资产'], \n",
        "          ['300050.SZ', '世纪鼎利', 5.6, 12.64, 12.68, 44.3, 2017.0, '配套融资'], \n",
        "          ['300050.SZ', '世纪鼎利', 5.6, 12.22, 12.26, 45.82, 2017.0, '融资收购其他资产']]\n",
        "    }"
      ],
      "execution_count": null,
      "outputs": []
    },
    {
      "cell_type": "code",
      "metadata": {
        "id": "rz1CZLu_D0Ht",
        "outputId": "fbc88193-4449-43e8-b734-d22a761a9fad",
        "colab": {
          "base_uri": "https://localhost:8080/",
          "height": 145
        }
      },
      "source": [
        "model.go(data)"
      ],
      "execution_count": null,
      "outputs": [
        {
          "output_type": "stream",
          "text": [
            "['2017', '17'] number from question\n",
            "定增年度=2017 0.9999343156814575\n",
            "定增年度=17 0.00010633746569510549\n",
            "增发目的=项目融资 8.339100168086588e-05\n",
            "增发目的=配套融资 0.9999605417251587\n",
            "增发目的=融资收购其他资产 8.809728024061769e-05\n"
          ],
          "name": "stdout"
        },
        {
          "output_type": "execute_result",
          "data": {
            "application/vnd.google.colaboratory.intrinsic+json": {
              "type": "string"
            },
            "text/plain": [
              "'SELECT COUNT 证券简称 WHERE 定增年度=2017 AND 增发目的=配套融资 '"
            ]
          },
          "metadata": {
            "tags": []
          },
          "execution_count": 56
        }
      ]
    },
    {
      "cell_type": "code",
      "metadata": {
        "id": "XMwOQGD57FKV"
      },
      "source": [
        "train_table_file = './data/train/train.tables.json'\n",
        "train_data_file = './data/train/train.json'\n",
        "\n",
        "val_table_file = './data/val/val.tables.json'\n",
        "val_data_file = './data/val/val.json'\n",
        "\n",
        "test_table_file = './data/test/test.tables.json'\n",
        "test_data_file = './data/test/test.json'\n",
        "sample_datas = T2Sdataset(train_table_file,train_data_file,test_table_file,test_data_file,val_table_file,val_data_file)"
      ],
      "execution_count": null,
      "outputs": []
    },
    {
      "cell_type": "code",
      "metadata": {
        "id": "tFDUPkWf3nG6",
        "outputId": "b30090aa-5eea-4745-d2d5-7a0970d0e4de",
        "colab": {
          "base_uri": "https://localhost:8080/",
          "height": 310
        }
      },
      "source": [
        "import random\n",
        "idx = random.randrange(4396)\n",
        "d = sample_datas.dev_data[idx]\n",
        "print(d['sql'])\n",
        "data = {\n",
        "    \"table_id\": d[\"table_id\"],\n",
        "    \"question\": d[\"question\"],\n",
        "    \"headers\": d[\"header\"][0:2],\n",
        "    \"table\": d[\"header\"][2]\n",
        "}\n",
        "print(data)\n",
        "print('=================================\\n')\n",
        "print('正解:' ,d['sql'])\n",
        "print('Header:' , data['headers'][0])\n",
        "print('Q:' , data['question'],'\\n')\n",
        "print('預測SQL: ' ,model.go(data))\n"
      ],
      "execution_count": null,
      "outputs": [
        {
          "output_type": "stream",
          "text": [
            "{'agg': [4], 'cond_conn_op': 1, 'sel': [1], 'conds': [[6, 2, '2017'], [7, 2, '配套融资']]}\n",
            "{'table_id': '4d263cee3aaa11e989cef40f24344a08', 'question': '呃共有多少家公司17年定增，而且是为了配套融资的呀', 'headers': [['证券代码', '证券简称', '最新收盘价', '定增价除权后至今价格', '增发价格', '倒挂率', '定增年度', '增发目的'], ['text', 'text', 'real', 'real', 'real', 'real', 'real', 'text']], 'table': [['002678.SZ', '珠江钢琴', 5.82, 9.37, 12.3, 62.09, 2017.0, '项目融资'], ['002696.SZ', '百洋股份', 8.87, 10.53, 18.19, 84.26, 2017.0, '配套融资'], ['002696.SZ', '百洋股份', 8.87, 12.0, 20.73, 73.93, 2017.0, '融资收购其他资产'], ['300044.SZ', '赛为智能', 6.62, 7.24, 13.06, 91.49, 2017.0, '融资收购其他资产'], ['300050.SZ', '世纪鼎利', 5.6, 12.64, 12.68, 44.3, 2017.0, '配套融资'], ['300050.SZ', '世纪鼎利', 5.6, 12.22, 12.26, 45.82, 2017.0, '融资收购其他资产']]}\n",
            "=================================\n",
            "\n",
            "正解: {'agg': [4], 'cond_conn_op': 1, 'sel': [1], 'conds': [[6, 2, '2017'], [7, 2, '配套融资']]}\n",
            "Header: ['证券代码', '证券简称', '最新收盘价', '定增价除权后至今价格', '增发价格', '倒挂率', '定增年度', '增发目的']\n",
            "Q: 呃共有多少家公司17年定增，而且是为了配套融资的呀 \n",
            "\n",
            "['17', '2017'] v\n",
            "定增年度=17 0.0004996743518859148\n",
            "定增年度=2017 0.9754862189292908\n",
            "增发目的=配套融资 0.9973745346069336\n",
            "增发目的=项目融资 0.00020001288794446737\n",
            "增发目的=融资收购其他资产 0.0002226595242973417\n",
            "預測SQL:  SELECT COUNT 证券简称 WHERE 定增年度=2017 AND 增发目的=配套融资 \n"
          ],
          "name": "stdout"
        }
      ]
    },
    {
      "cell_type": "markdown",
      "metadata": {
        "id": "NXREwoQFTwrL"
      },
      "source": [
        "# test"
      ]
    },
    {
      "cell_type": "code",
      "metadata": {
        "id": "3oQ18WeKT65M"
      },
      "source": [
        "import re"
      ],
      "execution_count": null,
      "outputs": []
    },
    {
      "cell_type": "code",
      "metadata": {
        "id": "Gk8PL7DiT4Ge"
      },
      "source": [
        "class CandidateCondsExtractor():\n",
        "    \"\"\"\n",
        "    params:\n",
        "        - share_candidates: 在同 table 同 column 中共享 real 型 candidates\n",
        "    \"\"\"\n",
        "    CN_NUM = '〇一二三四五六七八九零壹贰叁肆伍陆柒捌玖貮两'\n",
        "    CN_UNIT = '十拾百佰千仟万萬亿億兆点'\n",
        "    \n",
        "    def __init__(self, share_candidates=True):\n",
        "        self.share_candidates = share_candidates\n",
        "        self._cached = False\n",
        "    \n",
        "    def build_candidate_cache(self, queries):\n",
        "        self.cache = defaultdict(set)\n",
        "        print('building candidate cache')\n",
        "        for query_id, query in tqdm(enumerate(queries), total=len(queries)):\n",
        "            value_in_question = self.extract_values_from_text(query.question.text)\n",
        "            \n",
        "            for col_id, (col_name, col_type) in enumerate(query.table.header):\n",
        "                value_in_column = self.extract_values_from_column(query, col_id)\n",
        "                if col_type == 'text':\n",
        "                    cond_values = value_in_column\n",
        "                elif col_type == 'real':\n",
        "                    if len(value_in_column) == 1: \n",
        "                        cond_values = value_in_column + value_in_question\n",
        "                    else:\n",
        "                        cond_values = value_in_question\n",
        "                cache_key = self.get_cache_key(query_id, query, col_id)\n",
        "                self.cache[cache_key].update(cond_values)\n",
        "        self._cached = True\n",
        "    \n",
        "    def get_cache_key(self, query_id, query, col_id):\n",
        "        if self.share_candidates:\n",
        "            return (query.table.id, col_id)\n",
        "        else:\n",
        "            return (query_id, query.table.id, col_id)\n",
        "        \n",
        "    def extract_year_from_text(self, text):\n",
        "        values = []\n",
        "        num_year_texts = re.findall(r'[0-9][0-9]年', text)\n",
        "        values += ['20{}'.format(text[:-1]) for text in num_year_texts]\n",
        "        cn_year_texts = re.findall(r'[{}][{}]年'.format(self.CN_NUM, self.CN_NUM), text)\n",
        "        cn_year_values = [str_to_year(text) for text in cn_year_texts]\n",
        "        values += [value for value in cn_year_values if value is not None]\n",
        "        return values\n",
        "    \n",
        "    def extract_num_from_text(self, text):\n",
        "        values = []\n",
        "        num_values = re.findall(r'[-+]?[0-9]*\\.?[0-9]+', text)\n",
        "        values += num_values\n",
        "        \n",
        "        cn_num_unit = self.CN_NUM + self.CN_UNIT\n",
        "        cn_num_texts = re.findall(r'[{}]*\\.?[{}]+'.format(cn_num_unit, cn_num_unit), text)\n",
        "        cn_num_values = [str_to_num(text) for text in cn_num_texts]\n",
        "        values += [value for value in cn_num_values if value is not None]\n",
        "    \n",
        "        cn_num_mix = re.findall(r'[0-9]*\\.?[{}]+'.format(self.CN_UNIT), text)\n",
        "        for word in cn_num_mix:\n",
        "            num = re.findall(r'[-+]?[0-9]*\\.?[0-9]+', word)\n",
        "            for n in num:\n",
        "                word = word.replace(n, an_to_cn(n))\n",
        "            str_num = str_to_num(word)\n",
        "            if str_num is not None:\n",
        "                values.append(str_num)\n",
        "        return values\n",
        "    \n",
        "    def extract_values_from_text(self, text):\n",
        "        values = []\n",
        "        values += self.extract_year_from_text(text)\n",
        "        values += self.extract_num_from_text(text)\n",
        "        return list(set(values))\n",
        "   \n",
        "    def extract_values_from_column(self, query, col_ids):\n",
        "        question = query.question.text\n",
        "        question_chars = set(query.question.text)\n",
        "        unique_col_values = set(query.table.df.iloc[:, col_ids].astype(str))\n",
        "        select_col_values = [v for v in unique_col_values \n",
        "                             if (question_chars & set(v))]\n",
        "        return select_col_values"
      ],
      "execution_count": null,
      "outputs": []
    },
    {
      "cell_type": "code",
      "metadata": {
        "id": "RWVlv05YYJ8k"
      },
      "source": [
        "def is_float(value):\n",
        "    try:\n",
        "        float(value)\n",
        "        return True\n",
        "    except ValueError:\n",
        "        return False\n",
        "\n",
        "def cn_to_an(string):\n",
        "    try:\n",
        "        return str(cn2an.cn2an(string, 'normal'))\n",
        "    except ValueError:\n",
        "        return string\n",
        "\n",
        "def an_to_cn(string):\n",
        "    try:\n",
        "        return str(cn2an.an2cn(string))\n",
        "    except ValueError:\n",
        "        return string\n",
        "\n",
        "def str_to_num(string):\n",
        "    try:\n",
        "        float_val = float(cn_to_an(string))\n",
        "        if int(float_val) == float_val:   \n",
        "            return str(int(float_val))\n",
        "        else:\n",
        "            return str(float_val)\n",
        "    except ValueError:\n",
        "        return None\n",
        "\n",
        "def str_to_year(string):\n",
        "    year = string.replace('年', '')\n",
        "    year = cn_to_an(year)\n",
        "    if is_float(year) and float(year) < 1900:\n",
        "        year = int(year) + 2000\n",
        "        return str(year)\n",
        "    else:\n",
        "        return None\n",
        "    \n",
        "def load_json(json_file):\n",
        "    result = []\n",
        "    if json_file:\n",
        "        with open(json_file) as file:\n",
        "            for line in file:\n",
        "                result.append(json.loads(line))\n",
        "    return result"
      ],
      "execution_count": null,
      "outputs": []
    },
    {
      "cell_type": "code",
      "metadata": {
        "id": "3LMz2YJuU68b"
      },
      "source": [
        "def extract_values_from_text(text):\n",
        "        values = []\n",
        "        values += extract_year_from_text(text)\n",
        "        values += extract_num_from_text(text)\n",
        "        return list(set(values))\n",
        "\n",
        "def extract_num_from_text(text):\n",
        "    CN_NUM = '〇一二三四五六七八九零壹贰叁肆伍陆柒捌玖貮两'\n",
        "    CN_UNIT = '十拾百佰千仟万萬亿億兆点'\n",
        "    values = []\n",
        "    num_values = re.findall(r'[-+]?[0-9]*\\.?[0-9]+', text)\n",
        "    values += num_values\n",
        "        \n",
        "    cn_num_unit = CN_NUM +CN_UNIT\n",
        "    cn_num_texts = re.findall(r'[{}]*\\.?[{}]+'.format(cn_num_unit, cn_num_unit), text)\n",
        "    cn_num_values = [str_to_num(text) for text in cn_num_texts]\n",
        "    values += [value for value in cn_num_values if value is not None]\n",
        "    \n",
        "    cn_num_mix = re.findall(r'[0-9]*\\.?[{}]+'.format(CN_UNIT), text)\n",
        "    for word in cn_num_mix:\n",
        "        num = re.findall(r'[-+]?[0-9]*\\.?[0-9]+', word)\n",
        "        for n in num:\n",
        "            word = word.replace(n, an_to_cn(n))\n",
        "        str_num = str_to_num(word)\n",
        "        if str_num is not None:\n",
        "            values.append(str_num)\n",
        "    return values\n",
        "\n",
        "\n",
        "def extract_year_from_text(text):\n",
        "  values = []\n",
        "  CN_NUM = '〇一二三四五六七八九零壹贰叁肆伍陆柒捌玖貮两'\n",
        "  CN_UNIT = '十拾百佰千仟万萬亿億兆点'\n",
        "  num_year_texts = re.findall(r'[0-9][0-9]年', text)\n",
        "  values += ['20{}'.format(text[:-1]) for text in num_year_texts]\n",
        "  cn_year_texts = re.findall(r'[{}][{}]年'.format(CN_NUM,CN_NUM), text)\n",
        "  cn_year_values = [str_to_year(text) for text in cn_year_texts]\n",
        "  values += [value for value in cn_year_values if value is not None]\n",
        "  return values"
      ],
      "execution_count": null,
      "outputs": []
    },
    {
      "cell_type": "code",
      "metadata": {
        "id": "StP_zXABzm_e",
        "outputId": "5b8ed00e-c401-424f-dccb-5a6d412f7af4",
        "colab": {
          "base_uri": "https://localhost:8080/",
          "height": 34
        }
      },
      "source": [
        "q = '播放量破一千万的动漫有多少部啊？'\n",
        "extract_values_from_text(q)"
      ],
      "execution_count": null,
      "outputs": [
        {
          "output_type": "execute_result",
          "data": {
            "text/plain": [
              "['10000000']"
            ]
          },
          "metadata": {
            "tags": []
          },
          "execution_count": 28
        }
      ]
    },
    {
      "cell_type": "code",
      "metadata": {
        "id": "YEuKfGkHWHfa"
      },
      "source": [
        "path1 = './saved_models/M1.pt'\n",
        "path2 = './saved_models/M2_04.pt'\n",
        "model_type = 'hfl/chinese-bert-wwm'\n",
        "\n",
        "model1 = M1(path1,model_type,torch.device('cpu'))\n",
        "model2 = M2(path2,model_type,torch.device('cpu'))"
      ],
      "execution_count": null,
      "outputs": []
    },
    {
      "cell_type": "code",
      "metadata": {
        "id": "Gc0kQHQGuz2b"
      },
      "source": [
        "train_table_file = './data/train/train.tables.json'\n",
        "train_data_file = './data/train/train.json'\n",
        "\n",
        "val_table_file = './data/val/val.tables.json'\n",
        "val_data_file = './data/val/val.json'\n",
        "\n",
        "test_table_file = './data/test/test.tables.json'\n",
        "test_data_file = './data/test/test.json'\n",
        "sample_datas = T2Sdataset(train_table_file,train_data_file,test_table_file,test_data_file,val_table_file,val_data_file)"
      ],
      "execution_count": null,
      "outputs": []
    },
    {
      "cell_type": "code",
      "metadata": {
        "id": "mLjxutqiYxS8",
        "outputId": "748c4aa4-b950-4b38-9eac-adbe56bdf5ff",
        "colab": {
          "base_uri": "https://localhost:8080/",
          "height": 54
        }
      },
      "source": [
        "idx = 554\n",
        "d = sample_datas.dev_data[idx]\n",
        "data = {\n",
        "    \"table_id\": d[\"table_id\"],\n",
        "    \"question\": d[\"question\"],\n",
        "    \"headers\": d[\"header\"][0:2],\n",
        "    \"table\": d[\"header\"][2]\n",
        "}\n",
        "print(data)"
      ],
      "execution_count": null,
      "outputs": [
        {
          "output_type": "stream",
          "text": [
            "{'table_id': '015637de351311e9a016542696d6e445', 'question': 'EPS2017A大于0.5并且EPS2018E大于0.5的证券总共有多少？', 'headers': [['代码', '证券', '收盘价', 'EPS2017A', 'EPS2018E', 'EPS2019E', 'EPS2020E', 'PE2017A', 'PE2018E', 'PE2019E', 'PE2020E', 'CAGR18~20', 'PEG'], ['real', 'text', 'real', 'real', 'real', 'real', 'real', 'real', 'real', 'real', 'real', 'real', 'real']], 'table': [[601111.0, '中国国航', 8.13, 0.54, 0.44, 0.7, 0.91, 15.0, 19.0, 12.0, 9.0, 18.86, 0.99], [600115.0, '东方航空', 5.1, 0.44, 0.27, 0.54, 0.75, 12.0, 19.0, 9.0, 7.0, 19.61, 0.97], [601021.0, '春秋航空', 31.73, 1.58, 1.68, 2.2, 2.8, 20.0, 19.0, 14.0, 11.0, 21.01, 0.9], [603885.0, '吉祥航空', 11.86, 0.74, 0.82, 1.0, 1.3, 16.0, 15.0, 12.0, 9.0, 20.8, 0.7], [600029.0, '南方航空', 7.18, 0.48, 0.31, 0.76, 1.05, 15.0, 23.0, 9.0, 7.0, 29.81, 0.78]]}\n"
          ],
          "name": "stdout"
        }
      ]
    },
    {
      "cell_type": "code",
      "metadata": {
        "id": "n3tR51OtY41-",
        "outputId": "8a8212ae-f939-42f6-f04f-eb92fec10ba1",
        "colab": {
          "base_uri": "https://localhost:8080/",
          "height": 67
        }
      },
      "source": [
        "model1.go(data['question'],data['headers'])"
      ],
      "execution_count": null,
      "outputs": [
        {
          "output_type": "execute_result",
          "data": {
            "text/plain": [
              "{'agg': array([6, 4, 6, 6, 6, 6, 6, 6, 6, 6, 6, 6, 6]),\n",
              " 'cond': array([4, 4, 4, 0, 0, 4, 4, 4, 4, 4, 4, 4, 4]),\n",
              " 'conn_op': array(1)}"
            ]
          },
          "metadata": {
            "tags": []
          },
          "execution_count": 17
        }
      ]
    },
    {
      "cell_type": "code",
      "metadata": {
        "id": "Ty5pXS2JZ0Pv",
        "outputId": "960fabab-f845-412c-c353-656b4bf405f8",
        "colab": {
          "base_uri": "https://localhost:8080/",
          "height": 34
        }
      },
      "source": [
        "q = '2010成交面积大于500而且2011年成交面积大于500的一线城市累计同比最大是多少？'\n",
        "v  = '2011年成交面积>2011'\n",
        "model2.go(q,v)"
      ],
      "execution_count": null,
      "outputs": [
        {
          "output_type": "execute_result",
          "data": {
            "text/plain": [
              "0.00017600416322238743"
            ]
          },
          "metadata": {
            "tags": []
          },
          "execution_count": 26
        }
      ]
    },
    {
      "cell_type": "code",
      "metadata": {
        "id": "_RcMZ4TOTx6u",
        "outputId": "08dea1e0-594f-4d1a-ab6a-3ca433692a9a",
        "colab": {
          "base_uri": "https://localhost:8080/",
          "height": 50
        }
      },
      "source": [
        "data['question']=\"18年的拉菲\"\n",
        "ls = extract_values_from_text(data['question'])\n",
        "print(ls)\n",
        "model2.go(data['question'],v)"
      ],
      "execution_count": null,
      "outputs": [
        {
          "output_type": "stream",
          "text": [
            "['2018', '18']\n"
          ],
          "name": "stdout"
        },
        {
          "output_type": "execute_result",
          "data": {
            "text/plain": [
              "0.04116003215312958"
            ]
          },
          "metadata": {
            "tags": []
          },
          "execution_count": 130
        }
      ]
    },
    {
      "cell_type": "markdown",
      "metadata": {
        "id": "NILI8X8fNY3u"
      },
      "source": [
        "# 驗證"
      ]
    },
    {
      "cell_type": "code",
      "metadata": {
        "id": "8nH1DsO2NYLU",
        "outputId": "76b4a3a2-0dae-4b95-ce28-896ded813ccd",
        "colab": {
          "base_uri": "https://localhost:8080/",
          "height": 34
        }
      },
      "source": [
        "train_table_file = './data/train/train.tables.json'\n",
        "train_data_file = './data/train/train.json'\n",
        "\n",
        "val_table_file = './data/val/val.tables.json'\n",
        "val_data_file = './data/val/val.json'\n",
        "\n",
        "test_table_file = './data/test/test.tables.json'\n",
        "test_data_file = './data/test/test.json'\n",
        "sample_datas = T2Sdataset(train_table_file,train_data_file,test_table_file,test_data_file,val_table_file,val_data_file)\n",
        "print(len(sample_datas.dev_data))"
      ],
      "execution_count": null,
      "outputs": [
        {
          "output_type": "stream",
          "text": [
            "4396\n"
          ],
          "name": "stdout"
        }
      ]
    },
    {
      "cell_type": "code",
      "metadata": {
        "id": "9GJ40pUdNvQm",
        "outputId": "03a7124b-4bad-4ed8-990a-efd3681c516a",
        "colab": {
          "base_uri": "https://localhost:8080/",
          "height": 313,
          "referenced_widgets": [
            "27ef973ccfc744b5b9f7bf455275e062",
            "e80d2a8739cf428b892027e83fdae1b4",
            "8e246550db8f48539886bd5e7814962b",
            "bf3959f10d6848ada6df6d857304313e",
            "4b1f844339d14da6aa957aa1b7195f6b",
            "0a0a2f8d4f7f41119ca1108d149a63c6",
            "9615995aadf145069f0ca7cf2cfa8e8d",
            "141a66dc4ecb41c49fc54a48d3f0b8fe",
            "be20a6d948de45e38608e08d658db384",
            "d34ae60257144838aca5c24a7a4550df",
            "8c36ee4b107d4a2aa6d9de88b71848bc",
            "493091b9f04b4a92b491bd3a144507c2",
            "76cb8c2d13514566bd7121ad5e7db648",
            "4b6aad4166fb49fcbfae4ae90ce15209",
            "5667e078e47d47e49deb7e58996beb69",
            "65daacf2f11c420fbacac356a807a5c8",
            "37bda20255cb4427a0b1165b7f2e80d1",
            "bf0de4b5745040dbbd9fb1396657a67b",
            "9df3492e725e41a9af0d15f18db88b26",
            "499385f4fae84bd1abc336e61012959d",
            "b24e932c3ad1429b808aea07136a16fb",
            "4b0654a0faf9453ab055b3f2a94e8819",
            "04f8fbce69ea4db497ca3aad91cae303",
            "bade7b17bf9547f2bfcdaf974e0b5faf",
            "b73da0eb0d7648f186cbc65e6210ae6e",
            "6b93af36240d4f8e8dd7ac8d26f95145",
            "435b65cdbbfb4e6f917e887a5d71f567",
            "f1670990881e48cda62bd348244ba2f6",
            "2dfa0264f79548faad9bd163c71bdc10",
            "98f45ab60cf649bbbb7aa230d448a1d2",
            "544ee00e4fdb4e57877cd7e61ab50ca9",
            "9abdbfeddaa3413ab9cecd6efe947d19",
            "53cb69f31c164763af84638d277f3292",
            "8fec156e876d4da6b0790e28b6d30be7",
            "2522213ee4614474bf96a71fbe295486",
            "c954e957b213491485b912236374525e",
            "a0aaadc4a83146b1a0ae750e51a353d5",
            "bf6b70a5c7bb4773b623afbc464f77e9",
            "7a669b437dc143ee8fa3042147c907cf",
            "527a267e52d2444c9f72706e2103ff54",
            "d9f95ee585014ae49b8f6eca1726068d",
            "027f849941be44aea019c9f56e04167f",
            "5e9e660f27444e3fb2f287fcdbba4c62",
            "c9085258111d486f8aa6df60b7c1fb4d",
            "489496a0a5be4b35a6f0f9cbac1464e5",
            "d9cef81273964ce39df21cdbf4d11769",
            "cab243e733a442a0a813a72f0430140c",
            "b59d5eba2e4346c790639b3ebe209ce0"
          ]
        }
      },
      "source": [
        "path1 = './saved_models/M1.pt'\n",
        "path2 = './saved_models/M2_04.pt'\n",
        "model_type = 'hfl/chinese-bert-wwm'\n",
        "\n",
        "model1 = M1(path1,model_type,torch.device('cpu'))"
      ],
      "execution_count": null,
      "outputs": [
        {
          "output_type": "display_data",
          "data": {
            "application/vnd.jupyter.widget-view+json": {
              "model_id": "27ef973ccfc744b5b9f7bf455275e062",
              "version_minor": 0,
              "version_major": 2
            },
            "text/plain": [
              "HBox(children=(FloatProgress(value=0.0, description='Downloading', max=647.0, style=ProgressStyle(description_…"
            ]
          },
          "metadata": {
            "tags": []
          }
        },
        {
          "output_type": "stream",
          "text": [
            "\n"
          ],
          "name": "stdout"
        },
        {
          "output_type": "display_data",
          "data": {
            "application/vnd.jupyter.widget-view+json": {
              "model_id": "be20a6d948de45e38608e08d658db384",
              "version_minor": 0,
              "version_major": 2
            },
            "text/plain": [
              "HBox(children=(FloatProgress(value=0.0, description='Downloading', max=109540.0, style=ProgressStyle(descripti…"
            ]
          },
          "metadata": {
            "tags": []
          }
        },
        {
          "output_type": "stream",
          "text": [
            "\n"
          ],
          "name": "stdout"
        },
        {
          "output_type": "display_data",
          "data": {
            "application/vnd.jupyter.widget-view+json": {
              "model_id": "37bda20255cb4427a0b1165b7f2e80d1",
              "version_minor": 0,
              "version_major": 2
            },
            "text/plain": [
              "HBox(children=(FloatProgress(value=0.0, description='Downloading', max=2.0, style=ProgressStyle(description_wi…"
            ]
          },
          "metadata": {
            "tags": []
          }
        },
        {
          "output_type": "stream",
          "text": [
            "\n"
          ],
          "name": "stdout"
        },
        {
          "output_type": "display_data",
          "data": {
            "application/vnd.jupyter.widget-view+json": {
              "model_id": "b73da0eb0d7648f186cbc65e6210ae6e",
              "version_minor": 0,
              "version_major": 2
            },
            "text/plain": [
              "HBox(children=(FloatProgress(value=0.0, description='Downloading', max=112.0, style=ProgressStyle(description_…"
            ]
          },
          "metadata": {
            "tags": []
          }
        },
        {
          "output_type": "stream",
          "text": [
            "\n"
          ],
          "name": "stdout"
        },
        {
          "output_type": "display_data",
          "data": {
            "application/vnd.jupyter.widget-view+json": {
              "model_id": "53cb69f31c164763af84638d277f3292",
              "version_minor": 0,
              "version_major": 2
            },
            "text/plain": [
              "HBox(children=(FloatProgress(value=0.0, description='Downloading', max=19.0, style=ProgressStyle(description_w…"
            ]
          },
          "metadata": {
            "tags": []
          }
        },
        {
          "output_type": "stream",
          "text": [
            "\n"
          ],
          "name": "stdout"
        },
        {
          "output_type": "display_data",
          "data": {
            "application/vnd.jupyter.widget-view+json": {
              "model_id": "d9f95ee585014ae49b8f6eca1726068d",
              "version_minor": 0,
              "version_major": 2
            },
            "text/plain": [
              "HBox(children=(FloatProgress(value=0.0, description='Downloading', max=411578458.0, style=ProgressStyle(descri…"
            ]
          },
          "metadata": {
            "tags": []
          }
        },
        {
          "output_type": "stream",
          "text": [
            "\n"
          ],
          "name": "stdout"
        }
      ]
    },
    {
      "cell_type": "code",
      "metadata": {
        "id": "uUAKLV0gN64a"
      },
      "source": [
        "\n",
        "agg_correct = 0\n",
        "conn_correct = 0\n",
        "sel_correct = 0\n",
        "cond_correct = 0\n",
        "for ii,data in enumerate(sample_datas.dev_data):\n",
        "  sql = data['sql']\n",
        "  result = model1.go(data['question'],data['header'])\n",
        "  # print(idx,sql,result)\n",
        "  # conn\n",
        "  if sql['cond_conn_op'] == result['conn_op']:\n",
        "    conn_correct = conn_correct + 1\n",
        "  # sel  \n",
        "  #print('sel',np.where(result['agg']!=6)[0].tolist(), sql['sel'])  \n",
        "  if np.where(result['agg']!=6)[0].tolist() == sql['sel']:\n",
        "    sel_correct = sel_correct + 1\n",
        "\n",
        "  # agg\n",
        "  idx = np.where(result['agg']!=6)[0].tolist()\n",
        "  #print('agg', [ result['agg'][i] for i in idx] , sql['agg'])\n",
        "  if [ result['agg'][i] for i in idx] == sql['agg']: \n",
        "    agg_correct += 1\n",
        "  \n",
        "  # cond \n",
        " \n",
        "  all_right = True\n",
        "  for cond in sql['conds']:\n",
        "   # print(result['cond'][cond[0]] , cond[1] ,result['cond'][cond[0]]==cond[1]  )\n",
        "    if result['cond'][cond[0]] != cond[1]:\n",
        "      all_right = False\n",
        "      break\n",
        "  if all_right:\n",
        "    cond_correct+=1 "
      ],
      "execution_count": null,
      "outputs": []
    },
    {
      "cell_type": "code",
      "metadata": {
        "id": "ZPKc9MXpl-Eb",
        "outputId": "0997f0c6-b9b7-4c50-d183-8d241a6dd59c",
        "colab": {
          "base_uri": "https://localhost:8080/",
          "height": 51
        }
      },
      "source": [
        "print(agg_correct ,conn_correct ,sel_correct,cond_correct)\n",
        "print(agg_correct/4396 ,conn_correct/4396 ,sel_correct/4396,cond_correct/4396)"
      ],
      "execution_count": null,
      "outputs": [
        {
          "output_type": "stream",
          "text": [
            "4194 4232 4097 4050\n",
            "0.954049135577798 0.9626933575978162 0.9319836214740673 0.9212920837124658\n"
          ],
          "name": "stdout"
        }
      ]
    }
  ]
}